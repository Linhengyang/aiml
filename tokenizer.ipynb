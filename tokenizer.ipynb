{
 "cells": [
  {
   "cell_type": "code",
   "execution_count": 70,
   "id": "581689cf",
   "metadata": {},
   "outputs": [
    {
     "name": "stdout",
     "output_type": "stream",
     "text": [
      "---\n",
      "Ｕｎｉｃｏｄｅ! 🅤🅝🅘🅒🅞🅓🅔‽ 🇺‌🇳‌🇮‌🇨‌🇴‌🇩‌🇪! 😄 The very name strikes fear and awe into the hearts of programmers worldwide. We all know we ought to “support Unicode” in our software (whatever that means—like using wchar_t for all the strings, right?). But Unicode can be abstruse, and diving into the thousand-page Unicode Standard plus its dozens of supplementary annexes, reports, and notes can be more than a little intimidating. I don’t blame programmers for still finding the whole thing mysterious, even 30 years after Unicode’s inception.\n",
      "length: 533\n",
      "---\n",
      "[239, 188, 181, 239, 189, 142, 239, 189, 137, 239, 189, 131, 239, 189, 143, 239, 189, 132, 239, 189, 133, 33, 32, 240, 159, 133, 164, 240, 159, 133, 157, 240, 159, 133, 152, 240, 159, 133, 146, 240, 159, 133, 158, 240, 159, 133, 147, 240, 159, 133, 148, 226, 128, 189, 32, 240, 159, 135, 186, 226, 128, 140, 240, 159, 135, 179, 226, 128, 140, 240, 159, 135, 174, 226, 128, 140, 240, 159, 135, 168, 226, 128, 140, 240, 159, 135, 180, 226, 128, 140, 240, 159, 135, 169, 226, 128, 140, 240, 159, 135, 170, 33, 32, 240, 159, 152, 132, 32, 84, 104, 101, 32, 118, 101, 114, 121, 32, 110, 97, 109, 101, 32, 115, 116, 114, 105, 107, 101, 115, 32, 102, 101, 97, 114, 32, 97, 110, 100, 32, 97, 119, 101, 32, 105, 110, 116, 111, 32, 116, 104, 101, 32, 104, 101, 97, 114, 116, 115, 32, 111, 102, 32, 112, 114, 111, 103, 114, 97, 109, 109, 101, 114, 115, 32, 119, 111, 114, 108, 100, 119, 105, 100, 101, 46, 32, 87, 101, 32, 97, 108, 108, 32, 107, 110, 111, 119, 32, 119, 101, 32, 111, 117, 103, 104, 116, 32, 116, 111, 32, 226, 128, 156, 115, 117, 112, 112, 111, 114, 116, 32, 85, 110, 105, 99, 111, 100, 101, 226, 128, 157, 32, 105, 110, 32, 111, 117, 114, 32, 115, 111, 102, 116, 119, 97, 114, 101, 32, 40, 119, 104, 97, 116, 101, 118, 101, 114, 32, 116, 104, 97, 116, 32, 109, 101, 97, 110, 115, 226, 128, 148, 108, 105, 107, 101, 32, 117, 115, 105, 110, 103, 32, 119, 99, 104, 97, 114, 95, 116, 32, 102, 111, 114, 32, 97, 108, 108, 32, 116, 104, 101, 32, 115, 116, 114, 105, 110, 103, 115, 44, 32, 114, 105, 103, 104, 116, 63, 41, 46, 32, 66, 117, 116, 32, 85, 110, 105, 99, 111, 100, 101, 32, 99, 97, 110, 32, 98, 101, 32, 97, 98, 115, 116, 114, 117, 115, 101, 44, 32, 97, 110, 100, 32, 100, 105, 118, 105, 110, 103, 32, 105, 110, 116, 111, 32, 116, 104, 101, 32, 116, 104, 111, 117, 115, 97, 110, 100, 45, 112, 97, 103, 101, 32, 85, 110, 105, 99, 111, 100, 101, 32, 83, 116, 97, 110, 100, 97, 114, 100, 32, 112, 108, 117, 115, 32, 105, 116, 115, 32, 100, 111, 122, 101, 110, 115, 32, 111, 102, 32, 115, 117, 112, 112, 108, 101, 109, 101, 110, 116, 97, 114, 121, 32, 97, 110, 110, 101, 120, 101, 115, 44, 32, 114, 101, 112, 111, 114, 116, 115, 44, 32, 97, 110, 100, 32, 110, 111, 116, 101, 115, 32, 99, 97, 110, 32, 98, 101, 32, 109, 111, 114, 101, 32, 116, 104, 97, 110, 32, 97, 32, 108, 105, 116, 116, 108, 101, 32, 105, 110, 116, 105, 109, 105, 100, 97, 116, 105, 110, 103, 46, 32, 73, 32, 100, 111, 110, 226, 128, 153, 116, 32, 98, 108, 97, 109, 101, 32, 112, 114, 111, 103, 114, 97, 109, 109, 101, 114, 115, 32, 102, 111, 114, 32, 115, 116, 105, 108, 108, 32, 102, 105, 110, 100, 105, 110, 103, 32, 116, 104, 101, 32, 119, 104, 111, 108, 101, 32, 116, 104, 105, 110, 103, 32, 109, 121, 115, 116, 101, 114, 105, 111, 117, 115, 44, 32, 101, 118, 101, 110, 32, 51, 48, 32, 121, 101, 97, 114, 115, 32, 97, 102, 116, 101, 114, 32, 85, 110, 105, 99, 111, 100, 101, 226, 128, 153, 115, 32, 105, 110, 99, 101, 112, 116, 105, 111, 110, 46]\n",
      "length: 616\n"
     ]
    }
   ],
   "source": [
    "# text from https://www.reedbeta.com/blog/programmers-intro-to-unicode/\n",
    "text = \"Ｕｎｉｃｏｄｅ! 🅤🅝🅘🅒🅞🅓🅔‽ 🇺‌🇳‌🇮‌🇨‌🇴‌🇩‌🇪! 😄 The very name strikes fear and awe into the hearts of programmers worldwide. We all know we ought to “support Unicode” in our software (whatever that means—like using wchar_t for all the strings, right?). But Unicode can be abstruse, and diving into the thousand-page Unicode Standard plus its dozens of supplementary annexes, reports, and notes can be more than a little intimidating. I don’t blame programmers for still finding the whole thing mysterious, even 30 years after Unicode’s inception.\"\n",
    "text_bytes = text.encode(\"utf-8\") # raw bytes\n",
    "text_byteints = list(map(int, text_bytes)) # convert to a list of integers in range 0..255 for convenience\n",
    "print('---')\n",
    "print(text)\n",
    "print(\"length:\", len(text))\n",
    "print('---')\n",
    "print(text_byteints)\n",
    "print(\"length:\", len(text_byteints))"
   ]
  },
  {
   "cell_type": "code",
   "execution_count": 71,
   "id": "f814ba84",
   "metadata": {},
   "outputs": [],
   "source": [
    "# character lengths 533\n",
    "# byte integers length 616\n",
    "# Byte-BPE to compress"
   ]
  },
  {
   "cell_type": "code",
   "execution_count": 72,
   "id": "6c8f4fd5",
   "metadata": {},
   "outputs": [],
   "source": [
    "# BPE 的基本思想就是 occur-most pair of two consecutive tokens --merge--> new token\n",
    "# add new token to vocab\n",
    "# replace all consecutive two tokens to be merged to new token"
   ]
  },
  {
   "cell_type": "code",
   "execution_count": 73,
   "id": "8c7e1b4d",
   "metadata": {},
   "outputs": [],
   "source": [
    "# 遍历 当前 tokens_lst 以 计算 每个 pair of two consecutive tokens 出现的频数\n",
    "def get_counts_of_pair(tokens_lst:list):\n",
    "    counts = {}\n",
    "    for pair in zip(tokens_lst, tokens_lst[1:]):\n",
    "        counts[pair] = counts.get(pair, 0) + 1\n",
    "    \n",
    "    return counts\n",
    "\n",
    "stats = get_counts_of_pair(text_byteints)"
   ]
  },
  {
   "cell_type": "code",
   "execution_count": 74,
   "id": "bbbb566a",
   "metadata": {},
   "outputs": [
    {
     "name": "stdout",
     "output_type": "stream",
     "text": [
      "{(239, 188): 1, (188, 181): 1, (181, 239): 1, (239, 189): 6, (189, 142): 1, (142, 239): 1, (189, 137): 1, (137, 239): 1, (189, 131): 1, (131, 239): 1, (189, 143): 1, (143, 239): 1, (189, 132): 1, (132, 239): 1, (189, 133): 1, (133, 33): 1, (33, 32): 2, (32, 240): 3, (240, 159): 15, (159, 133): 7, (133, 164): 1, (164, 240): 1, (133, 157): 1, (157, 240): 1, (133, 152): 1, (152, 240): 1, (133, 146): 1, (146, 240): 1, (133, 158): 1, (158, 240): 1, (133, 147): 1, (147, 240): 1, (133, 148): 1, (148, 226): 1, (226, 128): 12, (128, 189): 1, (189, 32): 1, (159, 135): 7, (135, 186): 1, (186, 226): 1, (128, 140): 6, (140, 240): 6, (135, 179): 1, (179, 226): 1, (135, 174): 1, (174, 226): 1, (135, 168): 1, (168, 226): 1, (135, 180): 1, (180, 226): 1, (135, 169): 1, (169, 226): 1, (135, 170): 1, (170, 33): 1, (159, 152): 1, (152, 132): 1, (132, 32): 1, (32, 84): 1, (84, 104): 1, (104, 101): 6, (101, 32): 20, (32, 118): 1, (118, 101): 3, (101, 114): 6, (114, 121): 2, (121, 32): 2, (32, 110): 2, (110, 97): 1, (97, 109): 4, (109, 101): 6, (32, 115): 5, (115, 116): 5, (116, 114): 3, (114, 105): 4, (105, 107): 2, (107, 101): 2, (101, 115): 3, (115, 32): 10, (32, 102): 4, (102, 101): 1, (101, 97): 4, (97, 114): 7, (114, 32): 6, (32, 97): 10, (97, 110): 10, (110, 100): 6, (100, 32): 4, (97, 119): 1, (119, 101): 2, (32, 105): 6, (105, 110): 12, (110, 116): 4, (116, 111): 3, (111, 32): 3, (32, 116): 9, (116, 104): 8, (32, 104): 1, (114, 116): 3, (116, 115): 3, (32, 111): 4, (111, 102): 3, (102, 32): 2, (32, 112): 3, (112, 114): 2, (114, 111): 2, (111, 103): 2, (103, 114): 2, (114, 97): 2, (109, 109): 2, (114, 115): 3, (32, 119): 4, (119, 111): 1, (111, 114): 6, (114, 108): 1, (108, 100): 1, (100, 119): 1, (119, 105): 1, (105, 100): 2, (100, 101): 5, (101, 46): 1, (46, 32): 3, (32, 87): 1, (87, 101): 1, (97, 108): 2, (108, 108): 3, (108, 32): 3, (32, 107): 1, (107, 110): 1, (110, 111): 2, (111, 119): 1, (119, 32): 1, (111, 117): 4, (117, 103): 1, (103, 104): 2, (104, 116): 2, (116, 32): 6, (32, 226): 1, (128, 156): 1, (156, 115): 1, (115, 117): 2, (117, 112): 2, (112, 112): 2, (112, 111): 2, (32, 85): 4, (85, 110): 4, (110, 105): 4, (105, 99): 4, (99, 111): 4, (111, 100): 4, (101, 226): 2, (128, 157): 1, (157, 32): 1, (110, 32): 5, (117, 114): 1, (115, 111): 1, (102, 116): 2, (116, 119): 1, (119, 97): 1, (114, 101): 3, (32, 40): 1, (40, 119): 1, (119, 104): 2, (104, 97): 4, (97, 116): 3, (116, 101): 4, (101, 118): 2, (32, 109): 3, (110, 115): 2, (115, 226): 1, (128, 148): 1, (148, 108): 1, (108, 105): 2, (32, 117): 1, (117, 115): 5, (115, 105): 1, (110, 103): 6, (103, 32): 4, (119, 99): 1, (99, 104): 1, (114, 95): 1, (95, 116): 1, (102, 111): 2, (103, 115): 1, (115, 44): 4, (44, 32): 5, (32, 114): 2, (105, 103): 1, (116, 63): 1, (63, 41): 1, (41, 46): 1, (32, 66): 1, (66, 117): 1, (117, 116): 1, (32, 99): 2, (99, 97): 2, (32, 98): 3, (98, 101): 2, (97, 98): 1, (98, 115): 1, (114, 117): 1, (115, 101): 1, (101, 44): 1, (32, 100): 3, (100, 105): 2, (105, 118): 1, (118, 105): 1, (104, 111): 2, (115, 97): 1, (100, 45): 1, (45, 112): 1, (112, 97): 1, (97, 103): 1, (103, 101): 1, (32, 83): 1, (83, 116): 1, (116, 97): 2, (100, 97): 2, (114, 100): 1, (112, 108): 2, (108, 117): 1, (105, 116): 2, (100, 111): 2, (111, 122): 1, (122, 101): 1, (101, 110): 3, (108, 101): 3, (101, 109): 1, (110, 110): 1, (110, 101): 1, (101, 120): 1, (120, 101): 1, (101, 112): 2, (111, 116): 1, (109, 111): 1, (97, 32): 1, (32, 108): 1, (116, 116): 1, (116, 108): 1, (116, 105): 4, (105, 109): 1, (109, 105): 1, (103, 46): 1, (32, 73): 1, (73, 32): 1, (111, 110): 2, (110, 226): 1, (128, 153): 2, (153, 116): 1, (98, 108): 1, (108, 97): 1, (105, 108): 1, (102, 105): 1, (111, 108): 1, (104, 105): 1, (109, 121): 1, (121, 115): 1, (105, 111): 2, (32, 101): 1, (32, 51): 1, (51, 48): 1, (48, 32): 1, (32, 121): 1, (121, 101): 1, (97, 102): 1, (153, 115): 1, (110, 99): 1, (99, 101): 1, (112, 116): 1, (110, 46): 1}\n",
      "[((101, 32), 20), ((240, 159), 15), ((226, 128), 12), ((105, 110), 12), ((115, 32), 10), ((32, 97), 10), ((97, 110), 10), ((32, 116), 9), ((116, 104), 8), ((159, 133), 7), ((159, 135), 7), ((97, 114), 7), ((239, 189), 6), ((128, 140), 6), ((140, 240), 6), ((104, 101), 6), ((101, 114), 6), ((109, 101), 6), ((114, 32), 6), ((110, 100), 6), ((32, 105), 6), ((111, 114), 6), ((116, 32), 6), ((110, 103), 6), ((32, 115), 5), ((115, 116), 5), ((100, 101), 5), ((110, 32), 5), ((117, 115), 5), ((44, 32), 5), ((97, 109), 4), ((114, 105), 4), ((32, 102), 4), ((101, 97), 4), ((100, 32), 4), ((110, 116), 4), ((32, 111), 4), ((32, 119), 4), ((111, 117), 4), ((32, 85), 4), ((85, 110), 4), ((110, 105), 4), ((105, 99), 4), ((99, 111), 4), ((111, 100), 4), ((104, 97), 4), ((116, 101), 4), ((103, 32), 4), ((115, 44), 4), ((116, 105), 4), ((32, 240), 3), ((118, 101), 3), ((116, 114), 3), ((101, 115), 3), ((116, 111), 3), ((111, 32), 3), ((114, 116), 3), ((116, 115), 3), ((111, 102), 3), ((32, 112), 3), ((114, 115), 3), ((46, 32), 3), ((108, 108), 3), ((108, 32), 3), ((114, 101), 3), ((97, 116), 3), ((32, 109), 3), ((32, 98), 3), ((32, 100), 3), ((101, 110), 3), ((108, 101), 3), ((33, 32), 2), ((114, 121), 2), ((121, 32), 2), ((32, 110), 2), ((105, 107), 2), ((107, 101), 2), ((119, 101), 2), ((102, 32), 2), ((112, 114), 2), ((114, 111), 2), ((111, 103), 2), ((103, 114), 2), ((114, 97), 2), ((109, 109), 2), ((105, 100), 2), ((97, 108), 2), ((110, 111), 2), ((103, 104), 2), ((104, 116), 2), ((115, 117), 2), ((117, 112), 2), ((112, 112), 2), ((112, 111), 2), ((101, 226), 2), ((102, 116), 2), ((119, 104), 2), ((101, 118), 2), ((110, 115), 2), ((108, 105), 2), ((102, 111), 2), ((32, 114), 2), ((32, 99), 2), ((99, 97), 2), ((98, 101), 2), ((100, 105), 2), ((104, 111), 2), ((116, 97), 2), ((100, 97), 2), ((112, 108), 2), ((105, 116), 2), ((100, 111), 2), ((101, 112), 2), ((111, 110), 2), ((128, 153), 2), ((105, 111), 2), ((239, 188), 1), ((188, 181), 1), ((181, 239), 1), ((189, 142), 1), ((142, 239), 1), ((189, 137), 1), ((137, 239), 1), ((189, 131), 1), ((131, 239), 1), ((189, 143), 1), ((143, 239), 1), ((189, 132), 1), ((132, 239), 1), ((189, 133), 1), ((133, 33), 1), ((133, 164), 1), ((164, 240), 1), ((133, 157), 1), ((157, 240), 1), ((133, 152), 1), ((152, 240), 1), ((133, 146), 1), ((146, 240), 1), ((133, 158), 1), ((158, 240), 1), ((133, 147), 1), ((147, 240), 1), ((133, 148), 1), ((148, 226), 1), ((128, 189), 1), ((189, 32), 1), ((135, 186), 1), ((186, 226), 1), ((135, 179), 1), ((179, 226), 1), ((135, 174), 1), ((174, 226), 1), ((135, 168), 1), ((168, 226), 1), ((135, 180), 1), ((180, 226), 1), ((135, 169), 1), ((169, 226), 1), ((135, 170), 1), ((170, 33), 1), ((159, 152), 1), ((152, 132), 1), ((132, 32), 1), ((32, 84), 1), ((84, 104), 1), ((32, 118), 1), ((110, 97), 1), ((102, 101), 1), ((97, 119), 1), ((32, 104), 1), ((119, 111), 1), ((114, 108), 1), ((108, 100), 1), ((100, 119), 1), ((119, 105), 1), ((101, 46), 1), ((32, 87), 1), ((87, 101), 1), ((32, 107), 1), ((107, 110), 1), ((111, 119), 1), ((119, 32), 1), ((117, 103), 1), ((32, 226), 1), ((128, 156), 1), ((156, 115), 1), ((128, 157), 1), ((157, 32), 1), ((117, 114), 1), ((115, 111), 1), ((116, 119), 1), ((119, 97), 1), ((32, 40), 1), ((40, 119), 1), ((115, 226), 1), ((128, 148), 1), ((148, 108), 1), ((32, 117), 1), ((115, 105), 1), ((119, 99), 1), ((99, 104), 1), ((114, 95), 1), ((95, 116), 1), ((103, 115), 1), ((105, 103), 1), ((116, 63), 1), ((63, 41), 1), ((41, 46), 1), ((32, 66), 1), ((66, 117), 1), ((117, 116), 1), ((97, 98), 1), ((98, 115), 1), ((114, 117), 1), ((115, 101), 1), ((101, 44), 1), ((105, 118), 1), ((118, 105), 1), ((115, 97), 1), ((100, 45), 1), ((45, 112), 1), ((112, 97), 1), ((97, 103), 1), ((103, 101), 1), ((32, 83), 1), ((83, 116), 1), ((114, 100), 1), ((108, 117), 1), ((111, 122), 1), ((122, 101), 1), ((101, 109), 1), ((110, 110), 1), ((110, 101), 1), ((101, 120), 1), ((120, 101), 1), ((111, 116), 1), ((109, 111), 1), ((97, 32), 1), ((32, 108), 1), ((116, 116), 1), ((116, 108), 1), ((105, 109), 1), ((109, 105), 1), ((103, 46), 1), ((32, 73), 1), ((73, 32), 1), ((110, 226), 1), ((153, 116), 1), ((98, 108), 1), ((108, 97), 1), ((105, 108), 1), ((102, 105), 1), ((111, 108), 1), ((104, 105), 1), ((109, 121), 1), ((121, 115), 1), ((32, 101), 1), ((32, 51), 1), ((51, 48), 1), ((48, 32), 1), ((32, 121), 1), ((121, 101), 1), ((97, 102), 1), ((153, 115), 1), ((110, 99), 1), ((99, 101), 1), ((112, 116), 1), ((110, 46), 1)]\n"
     ]
    }
   ],
   "source": [
    "print(stats)\n",
    "# list of following dict:\n",
    "#   key: (token_a, token_b)\n",
    "#   value: number\n",
    "sort_stats = sorted( stats.items(), key=lambda x: x[1], reverse=True)\n",
    "print(sort_stats)"
   ]
  },
  {
   "cell_type": "code",
   "execution_count": 75,
   "id": "94409e97",
   "metadata": {},
   "outputs": [
    {
     "name": "stdout",
     "output_type": "stream",
     "text": [
      "{('a', 'a'): 4, ('a', 'b'): 2, ('b', 'd'): 1, ('d', 'a'): 1, ('b', 'a'): 1, ('a', 'c'): 1}\n"
     ]
    }
   ],
   "source": [
    "# 测试 char-level\n",
    "print( get_counts_of_pair(list('aaabdaaabac')) )"
   ]
  },
  {
   "cell_type": "code",
   "execution_count": 76,
   "id": "6c39ed07",
   "metadata": {},
   "outputs": [],
   "source": [
    "# 遍历 当前 tokens_lst，把指定的 pair of two consecutive tokens 替换成 指定的 new token\n",
    "# [5, 6, 6, 7, 9, 1] merge(6,6)\n",
    "def merge_pair(tokens_lst:list, pair, new_token):\n",
    "    new_tokens_lst = []\n",
    "    i = 0\n",
    "    while i < len(tokens_lst):\n",
    "        # check the consecutive two in current position with the pair\n",
    "        if i < len(tokens_lst) - 1 and tokens_lst[i] == pair[0] and tokens_lst[i+1] == pair[1]: # 当前 i, i+1 两个位置 组成 pair\n",
    "            new_tokens_lst.append(new_token) # i 位置 记录 new_token\n",
    "            i += 2 # i+1 位置被跳过, compress。下一轮 检查 i+2 位置\n",
    "        else: # 当前 i, i+1 两个位置 不组成 pair, 或者 i 已经是 last token\n",
    "            new_tokens_lst.append( tokens_lst[i] ) # i 位置 记录 原 i 位置 token\n",
    "            i += 1 # 下一轮 检查 i+1位置\n",
    "    \n",
    "    return new_tokens_lst"
   ]
  },
  {
   "cell_type": "code",
   "execution_count": 77,
   "id": "b5c0e201",
   "metadata": {},
   "outputs": [
    {
     "name": "stdout",
     "output_type": "stream",
     "text": [
      "[99, 6, 7, 9, 1]\n"
     ]
    }
   ],
   "source": [
    "# 基本功能测试\n",
    "tokens_lst = [5, 6, 6, 7, 9, 1]\n",
    "pair = (5, 6)\n",
    "new_token = 99\n",
    "print( merge_pair(tokens_lst, pair, new_token) )"
   ]
  },
  {
   "cell_type": "code",
   "execution_count": 78,
   "id": "3bc3ccba",
   "metadata": {},
   "outputs": [],
   "source": [
    "# 尝试 merge the occur-most pair of text_byteints\n",
    "top_pair = max(stats, key=stats.get)\n",
    "merged_ = merge_pair(text_byteints, top_pair, 256)"
   ]
  },
  {
   "cell_type": "code",
   "execution_count": 79,
   "id": "1d0e1f1f",
   "metadata": {},
   "outputs": [
    {
     "name": "stdout",
     "output_type": "stream",
     "text": [
      "616\n",
      "596\n"
     ]
    }
   ],
   "source": [
    "# print the previous number of tokens & number of tokens after 1 merge\n",
    "print( len(text_byteints) )\n",
    "print( len(merged_) )"
   ]
  },
  {
   "cell_type": "code",
   "execution_count": 80,
   "id": "8a77ebca",
   "metadata": {},
   "outputs": [
    {
     "name": "stdout",
     "output_type": "stream",
     "text": [
      "{('Ｕ', 'ｎ'): 1, ('ｎ', 'ｉ'): 1, ('ｉ', 'ｃ'): 1, ('ｃ', 'ｏ'): 1, ('ｏ', 'ｄ'): 1, ('ｄ', 'ｅ'): 1, ('ｅ', '!'): 1, ('!', '▁'): 2, ('▁', '🅤'): 1, ('🅤', '🅝'): 1, ('🅝', '🅘'): 1, ('🅘', '🅒'): 1, ('🅒', '🅞'): 1, ('🅞', '🅓'): 1, ('🅓', '🅔'): 1, ('🅔', '‽'): 1, ('‽', '▁'): 1, ('▁', '🇺'): 1, ('🇺', '\\u200c'): 1, ('\\u200c', '🇳'): 1, ('🇳', '\\u200c'): 1, ('\\u200c', '🇮'): 1, ('🇮', '\\u200c'): 1, ('\\u200c', '🇨'): 1, ('🇨', '\\u200c'): 1, ('\\u200c', '🇴'): 1, ('🇴', '\\u200c'): 1, ('\\u200c', '🇩'): 1, ('🇩', '\\u200c'): 1, ('\\u200c', '🇪'): 1, ('🇪', '!'): 1, ('▁', '😄'): 1, ('😄', '▁'): 1, ('▁', 'T'): 1, ('T', 'h'): 1, ('h', 'e'): 6, ('e', '▁'): 20, ('▁', 'v'): 1, ('v', 'e'): 3, ('e', 'r'): 6, ('r', 'y'): 2, ('y', '▁'): 2, ('▁', 'n'): 2, ('n', 'a'): 1, ('a', 'm'): 4, ('m', 'e'): 6, ('▁', 's'): 5, ('s', 't'): 5, ('t', 'r'): 3, ('r', 'i'): 4, ('i', 'k'): 2, ('k', 'e'): 2, ('e', 's'): 3, ('s', '▁'): 10, ('▁', 'f'): 4, ('f', 'e'): 1, ('e', 'a'): 4, ('a', 'r'): 7, ('r', '▁'): 6, ('▁', 'a'): 10, ('a', 'n'): 10, ('n', 'd'): 6, ('d', '▁'): 4, ('a', 'w'): 1, ('w', 'e'): 2, ('▁', 'i'): 6, ('i', 'n'): 12, ('n', 't'): 4, ('t', 'o'): 3, ('o', '▁'): 3, ('▁', 't'): 9, ('t', 'h'): 8, ('▁', 'h'): 1, ('r', 't'): 3, ('t', 's'): 3, ('▁', 'o'): 4, ('o', 'f'): 3, ('f', '▁'): 2, ('▁', 'p'): 3, ('p', 'r'): 2, ('r', 'o'): 2, ('o', 'g'): 2, ('g', 'r'): 2, ('r', 'a'): 2, ('m', 'm'): 2, ('r', 's'): 3, ('▁', 'w'): 4, ('w', 'o'): 1, ('o', 'r'): 6, ('r', 'l'): 1, ('l', 'd'): 1, ('d', 'w'): 1, ('w', 'i'): 1, ('i', 'd'): 2, ('d', 'e'): 5, ('e', '.'): 1, ('.', '▁'): 3, ('▁', 'W'): 1, ('W', 'e'): 1, ('a', 'l'): 2, ('l', 'l'): 3, ('l', '▁'): 3, ('▁', 'k'): 1, ('k', 'n'): 1, ('n', 'o'): 2, ('o', 'w'): 1, ('w', '▁'): 1, ('o', 'u'): 4, ('u', 'g'): 1, ('g', 'h'): 2, ('h', 't'): 2, ('t', '▁'): 6, ('▁', '“'): 1, ('“', 's'): 1, ('s', 'u'): 2, ('u', 'p'): 2, ('p', 'p'): 2, ('p', 'o'): 2, ('▁', 'U'): 4, ('U', 'n'): 4, ('n', 'i'): 4, ('i', 'c'): 4, ('c', 'o'): 4, ('o', 'd'): 4, ('e', '”'): 1, ('”', '▁'): 1, ('n', '▁'): 5, ('u', 'r'): 1, ('s', 'o'): 1, ('f', 't'): 2, ('t', 'w'): 1, ('w', 'a'): 1, ('r', 'e'): 3, ('▁', '('): 1, ('(', 'w'): 1, ('w', 'h'): 2, ('h', 'a'): 4, ('a', 't'): 3, ('t', 'e'): 4, ('e', 'v'): 2, ('▁', 'm'): 3, ('n', 's'): 2, ('s', '—'): 1, ('—', 'l'): 1, ('l', 'i'): 2, ('▁', 'u'): 1, ('u', 's'): 5, ('s', 'i'): 1, ('n', 'g'): 6, ('g', '▁'): 4, ('w', 'c'): 1, ('c', 'h'): 1, ('r', '_'): 1, ('_', 't'): 1, ('f', 'o'): 2, ('g', 's'): 1, ('s', ','): 4, (',', '▁'): 5, ('▁', 'r'): 2, ('i', 'g'): 1, ('t', '?'): 1, ('?', ')'): 1, (')', '.'): 1, ('▁', 'B'): 1, ('B', 'u'): 1, ('u', 't'): 1, ('▁', 'c'): 2, ('c', 'a'): 2, ('▁', 'b'): 3, ('b', 'e'): 2, ('a', 'b'): 1, ('b', 's'): 1, ('r', 'u'): 1, ('s', 'e'): 1, ('e', ','): 1, ('▁', 'd'): 3, ('d', 'i'): 2, ('i', 'v'): 1, ('v', 'i'): 1, ('h', 'o'): 2, ('s', 'a'): 1, ('d', '-'): 1, ('-', 'p'): 1, ('p', 'a'): 1, ('a', 'g'): 1, ('g', 'e'): 1, ('▁', 'S'): 1, ('S', 't'): 1, ('t', 'a'): 2, ('d', 'a'): 2, ('r', 'd'): 1, ('p', 'l'): 2, ('l', 'u'): 1, ('i', 't'): 2, ('d', 'o'): 2, ('o', 'z'): 1, ('z', 'e'): 1, ('e', 'n'): 3, ('l', 'e'): 3, ('e', 'm'): 1, ('n', 'n'): 1, ('n', 'e'): 1, ('e', 'x'): 1, ('x', 'e'): 1, ('e', 'p'): 2, ('o', 't'): 1, ('m', 'o'): 1, ('a', '▁'): 1, ('▁', 'l'): 1, ('t', 't'): 1, ('t', 'l'): 1, ('t', 'i'): 4, ('i', 'm'): 1, ('m', 'i'): 1, ('g', '.'): 1, ('▁', 'I'): 1, ('I', '▁'): 1, ('o', 'n'): 2, ('n', '’'): 1, ('’', 't'): 1, ('b', 'l'): 1, ('l', 'a'): 1, ('i', 'l'): 1, ('f', 'i'): 1, ('o', 'l'): 1, ('h', 'i'): 1, ('m', 'y'): 1, ('y', 's'): 1, ('i', 'o'): 2, ('▁', 'e'): 1, ('▁', '3'): 1, ('3', '0'): 1, ('0', '▁'): 1, ('▁', 'y'): 1, ('y', 'e'): 1, ('a', 'f'): 1, ('e', '’'): 1, ('’', 's'): 1, ('n', 'c'): 1, ('c', 'e'): 1, ('p', 't'): 1, ('n', '.'): 1}\n",
      "('e', '▁')\n",
      "['Ｕ', 'ｎ', 'ｉ', 'ｃ', 'ｏ', 'ｄ', 'ｅ', '!', '▁', '🅤', '🅝', '🅘', '🅒', '🅞', '🅓', '🅔', '‽', '▁', '🇺', '\\u200c', '🇳', '\\u200c', '🇮', '\\u200c', '🇨', '\\u200c', '🇴', '\\u200c', '🇩', '\\u200c', '🇪', '!', '▁', '😄', '▁', 'T', 'h', 'e▁', 'v', 'e', 'r', 'y', '▁', 'n', 'a', 'm', 'e▁', 's', 't', 'r', 'i', 'k', 'e', 's', '▁', 'f', 'e', 'a', 'r', '▁', 'a', 'n', 'd', '▁', 'a', 'w', 'e▁', 'i', 'n', 't', 'o', '▁', 't', 'h', 'e▁', 'h', 'e', 'a', 'r', 't', 's', '▁', 'o', 'f', '▁', 'p', 'r', 'o', 'g', 'r', 'a', 'm', 'm', 'e', 'r', 's', '▁', 'w', 'o', 'r', 'l', 'd', 'w', 'i', 'd', 'e', '.', '▁', 'W', 'e▁', 'a', 'l', 'l', '▁', 'k', 'n', 'o', 'w', '▁', 'w', 'e▁', 'o', 'u', 'g', 'h', 't', '▁', 't', 'o', '▁', '“', 's', 'u', 'p', 'p', 'o', 'r', 't', '▁', 'U', 'n', 'i', 'c', 'o', 'd', 'e', '”', '▁', 'i', 'n', '▁', 'o', 'u', 'r', '▁', 's', 'o', 'f', 't', 'w', 'a', 'r', 'e▁', '(', 'w', 'h', 'a', 't', 'e', 'v', 'e', 'r', '▁', 't', 'h', 'a', 't', '▁', 'm', 'e', 'a', 'n', 's', '—', 'l', 'i', 'k', 'e▁', 'u', 's', 'i', 'n', 'g', '▁', 'w', 'c', 'h', 'a', 'r', '_', 't', '▁', 'f', 'o', 'r', '▁', 'a', 'l', 'l', '▁', 't', 'h', 'e▁', 's', 't', 'r', 'i', 'n', 'g', 's', ',', '▁', 'r', 'i', 'g', 'h', 't', '?', ')', '.', '▁', 'B', 'u', 't', '▁', 'U', 'n', 'i', 'c', 'o', 'd', 'e▁', 'c', 'a', 'n', '▁', 'b', 'e▁', 'a', 'b', 's', 't', 'r', 'u', 's', 'e', ',', '▁', 'a', 'n', 'd', '▁', 'd', 'i', 'v', 'i', 'n', 'g', '▁', 'i', 'n', 't', 'o', '▁', 't', 'h', 'e▁', 't', 'h', 'o', 'u', 's', 'a', 'n', 'd', '-', 'p', 'a', 'g', 'e▁', 'U', 'n', 'i', 'c', 'o', 'd', 'e▁', 'S', 't', 'a', 'n', 'd', 'a', 'r', 'd', '▁', 'p', 'l', 'u', 's', '▁', 'i', 't', 's', '▁', 'd', 'o', 'z', 'e', 'n', 's', '▁', 'o', 'f', '▁', 's', 'u', 'p', 'p', 'l', 'e', 'm', 'e', 'n', 't', 'a', 'r', 'y', '▁', 'a', 'n', 'n', 'e', 'x', 'e', 's', ',', '▁', 'r', 'e', 'p', 'o', 'r', 't', 's', ',', '▁', 'a', 'n', 'd', '▁', 'n', 'o', 't', 'e', 's', '▁', 'c', 'a', 'n', '▁', 'b', 'e▁', 'm', 'o', 'r', 'e▁', 't', 'h', 'a', 'n', '▁', 'a', '▁', 'l', 'i', 't', 't', 'l', 'e▁', 'i', 'n', 't', 'i', 'm', 'i', 'd', 'a', 't', 'i', 'n', 'g', '.', '▁', 'I', '▁', 'd', 'o', 'n', '’', 't', '▁', 'b', 'l', 'a', 'm', 'e▁', 'p', 'r', 'o', 'g', 'r', 'a', 'm', 'm', 'e', 'r', 's', '▁', 'f', 'o', 'r', '▁', 's', 't', 'i', 'l', 'l', '▁', 'f', 'i', 'n', 'd', 'i', 'n', 'g', '▁', 't', 'h', 'e▁', 'w', 'h', 'o', 'l', 'e▁', 't', 'h', 'i', 'n', 'g', '▁', 'm', 'y', 's', 't', 'e', 'r', 'i', 'o', 'u', 's', ',', '▁', 'e', 'v', 'e', 'n', '▁', '3', '0', '▁', 'y', 'e', 'a', 'r', 's', '▁', 'a', 'f', 't', 'e', 'r', '▁', 'U', 'n', 'i', 'c', 'o', 'd', 'e', '’', 's', '▁', 'i', 'n', 'c', 'e', 'p', 't', 'i', 'o', 'n', '.']\n",
      "533\n",
      "513\n"
     ]
    }
   ],
   "source": [
    "# 在 char-level 上试用上述逻辑\n",
    "sp_sep = chr(0x2581)\n",
    "text_chars = text.replace(' ', sp_sep) # 把 单空格换成 U+2581\n",
    "charlv_tokens_lst = list(text_chars)\n",
    "char_stats = get_counts_of_pair(charlv_tokens_lst)\n",
    "print(char_stats)\n",
    "\n",
    "top_pair = max(char_stats, key=char_stats.get)\n",
    "print(top_pair)\n",
    "\n",
    "# 尝试 merge the occur-most pair of text_chars\n",
    "charlv_tokens_lst_merge = merge_pair(charlv_tokens_lst, top_pair, ''.join(top_pair))\n",
    "print(charlv_tokens_lst_merge)\n",
    "\n",
    "# print the previous number of tokens & number of tokens after 1 merge\n",
    "print( len(charlv_tokens_lst) )\n",
    "print( len(charlv_tokens_lst_merge) )"
   ]
  },
  {
   "cell_type": "markdown",
   "id": "837a78c7",
   "metadata": {},
   "source": [
    "## put together"
   ]
  },
  {
   "cell_type": "code",
   "execution_count": 81,
   "id": "7dbae62c",
   "metadata": {},
   "outputs": [],
   "source": [
    "# put together\n",
    "# making the training text longer to have more representative token statistics\n",
    "# text from https://www.reedbeta.com/blog/programmers-intro-to-unicode/\n",
    "text = \"\"\"A Programmer’s Introduction to Unicode March 3, 2017 · Coding · 22 Comments  Ｕｎｉｃｏｄｅ! 🅤🅝🅘🅒🅞🅓🅔‽ 🇺\\u200c🇳\\u200c🇮\\u200c🇨\\u200c🇴\\u200c🇩\\u200c🇪! 😄 The very name strikes fear and awe into the hearts of programmers worldwide. We all know we ought to “support Unicode” in our software (whatever that means—like using wchar_t for all the strings, right?). But Unicode can be abstruse, and diving into the thousand-page Unicode Standard plus its dozens of supplementary annexes, reports, and notes can be more than a little intimidating. I don’t blame programmers for still finding the whole thing mysterious, even 30 years after Unicode’s inception.  A few months ago, I got interested in Unicode and decided to spend some time learning more about it in detail. In this article, I’ll give an introduction to it from a programmer’s point of view.  I’m going to focus on the character set and what’s involved in working with strings and files of Unicode text. However, in this article I’m not going to talk about fonts, text layout/shaping/rendering, or localization in detail—those are separate issues, beyond my scope (and knowledge) here.  Diversity and Inherent Complexity The Unicode Codespace Codespace Allocation Scripts Usage Frequency Encodings UTF-8 UTF-16 Combining Marks Canonical Equivalence Normalization Forms Grapheme Clusters And More… Diversity and Inherent Complexity As soon as you start to study Unicode, it becomes clear that it represents a large jump in complexity over character sets like ASCII that you may be more familiar with. It’s not just that Unicode contains a much larger number of characters, although that’s part of it. Unicode also has a great deal of internal structure, features, and special cases, making it much more than what one might expect a mere “character set” to be. We’ll see some of that later in this article.  When confronting all this complexity, especially as an engineer, it’s hard not to find oneself asking, “Why do we need all this? Is this really necessary? Couldn’t it be simplified?”  However, Unicode aims to faithfully represent the entire world’s writing systems. The Unicode Consortium’s stated goal is “enabling people around the world to use computers in any language”. And as you might imagine, the diversity of written languages is immense! To date, Unicode supports 135 different scripts, covering some 1100 languages, and there’s still a long tail of over 100 unsupported scripts, both modern and historical, which people are still working to add.  Given this enormous diversity, it’s inevitable that representing it is a complicated project. Unicode embraces that diversity, and accepts the complexity inherent in its mission to include all human writing systems. It doesn’t make a lot of trade-offs in the name of simplification, and it makes exceptions to its own rules where necessary to further its mission.  Moreover, Unicode is committed not just to supporting texts in any single language, but also to letting multiple languages coexist within one text—which introduces even more complexity.  Most programming languages have libraries available to handle the gory low-level details of text manipulation, but as a programmer, you’ll still need to know about certain Unicode features in order to know when and how to apply them. It may take some time to wrap your head around it all, but don’t be discouraged—think about the billions of people for whom your software will be more accessible through supporting text in their language. Embrace the complexity!  The Unicode Codespace Let’s start with some general orientation. The basic elements of Unicode—its “characters”, although that term isn’t quite right—are called code points. Code points are identified by number, customarily written in hexadecimal with the prefix “U+”, such as U+0041 “A” latin capital letter a or U+03B8 “θ” greek small letter theta. Each code point also has a short name, and quite a few other properties, specified in the Unicode Character Database.  The set of all possible code points is called the codespace. The Unicode codespace consists of 1,114,112 code points. However, only 128,237 of them—about 12% of the codespace—are actually assigned, to date. There’s plenty of room for growth! Unicode also reserves an additional 137,468 code points as “private use” areas, which have no standardized meaning and are available for individual applications to define for their own purposes.  Codespace Allocation To get a feel for how the codespace is laid out, it’s helpful to visualize it. Below is a map of the entire codespace, with one pixel per code point. It’s arranged in tiles for visual coherence; each small square is 16×16 = 256 code points, and each large square is a “plane” of 65,536 code points. There are 17 planes altogether.  Map of the Unicode codespace (click to zoom)  White represents unassigned space. Blue is assigned code points, green is private-use areas, and the small red area is surrogates (more about those later). As you can see, the assigned code points are distributed somewhat sparsely, but concentrated in the first three planes.  Plane 0 is also known as the “Basic Multilingual Plane”, or BMP. The BMP contains essentially all the characters needed for modern text in any script, including Latin, Cyrillic, Greek, Han (Chinese), Japanese, Korean, Arabic, Hebrew, Devanagari (Indian), and many more.  (In the past, the codespace was just the BMP and no more—Unicode was originally conceived as a straightforward 16-bit encoding, with only 65,536 code points. It was expanded to its current size in 1996. However, the vast majority of code points in modern text belong to the BMP.)  Plane 1 contains historical scripts, such as Sumerian cuneiform and Egyptian hieroglyphs, as well as emoji and various other symbols. Plane 2 contains a large block of less-common and historical Han characters. The remaining planes are empty, except for a small number of rarely-used formatting characters in Plane 14; planes 15–16 are reserved entirely for private use.  Scripts Let’s zoom in on the first three planes, since that’s where the action is:  Map of scripts in Unicode planes 0–2 (click to zoom)  This map color-codes the 135 different scripts in Unicode. You can see how Han () and Korean () take up most of the range of the BMP (the left large square). By contrast, all of the European, Middle Eastern, and South Asian scripts fit into the first row of the BMP in this diagram.  Many areas of the codespace are adapted or copied from earlier encodings. For example, the first 128 code points of Unicode are just a copy of ASCII. This has clear benefits for compatibility—it’s easy to losslessly convert texts from smaller encodings into Unicode (and the other direction too, as long as no characters outside the smaller encoding are used).  Usage Frequency One more interesting way to visualize the codespace is to look at the distribution of usage—in other words, how often each code point is actually used in real-world texts. Below is a heat map of planes 0–2 based on a large sample of text from Wikipedia and Twitter (all languages). Frequency increases from black (never seen) through red and yellow to white.  Heat map of code point usage frequency in Unicode planes 0–2 (click to zoom)  You can see that the vast majority of this text sample lies in the BMP, with only scattered usage of code points from planes 1–2. The biggest exception is emoji, which show up here as the several bright squares in the bottom row of plane 1.  Encodings We’ve seen that Unicode code points are abstractly identified by their index in the codespace, ranging from U+0000 to U+10FFFF. But how do code points get represented as bytes, in memory or in a file?  The most convenient, computer-friendliest (and programmer-friendliest) thing to do would be to just store the code point index as a 32-bit integer. This works, but it consumes 4 bytes per code point, which is sort of a lot. Using 32-bit ints for Unicode will cost you a bunch of extra storage, memory, and performance in bandwidth-bound scenarios, if you work with a lot of text.  Consequently, there are several more-compact encodings for Unicode. The 32-bit integer encoding is officially called UTF-32 (UTF = “Unicode Transformation Format”), but it’s rarely used for storage. At most, it comes up sometimes as a temporary internal representation, for examining or operating on the code points in a string.  Much more commonly, you’ll see Unicode text encoded as either UTF-8 or UTF-16. These are both variable-length encodings, made up of 8-bit or 16-bit units, respectively. In these schemes, code points with smaller index values take up fewer bytes, which saves a lot of memory for typical texts. The trade-off is that processing UTF-8/16 texts is more programmatically involved, and likely slower.  UTF-8 In UTF-8, each code point is stored using 1 to 4 bytes, based on its index value.  UTF-8 uses a system of binary prefixes, in which the high bits of each byte mark whether it’s a single byte, the beginning of a multi-byte sequence, or a continuation byte; the remaining bits, concatenated, give the code point index. This table shows how it works:  UTF-8 (binary)\\tCode point (binary)\\tRange 0xxxxxxx\\txxxxxxx\\tU+0000–U+007F 110xxxxx 10yyyyyy\\txxxxxyyyyyy\\tU+0080–U+07FF 1110xxxx 10yyyyyy 10zzzzzz\\txxxxyyyyyyzzzzzz\\tU+0800–U+FFFF 11110xxx 10yyyyyy 10zzzzzz 10wwwwww\\txxxyyyyyyzzzzzzwwwwww\\tU+10000–U+10FFFF A handy property of UTF-8 is that code points below 128 (ASCII characters) are encoded as single bytes, and all non-ASCII code points are encoded using sequences of bytes 128–255. This has a couple of nice consequences. First, any strings or files out there that are already in ASCII can also be interpreted as UTF-8 without any conversion. Second, lots of widely-used string programming idioms—such as null termination, or delimiters (newlines, tabs, commas, slashes, etc.)—will just work on UTF-8 strings. ASCII bytes never occur inside the encoding of non-ASCII code points, so searching byte-wise for a null terminator or a delimiter will do the right thing.  Thanks to this convenience, it’s relatively simple to extend legacy ASCII programs and APIs to handle UTF-8 strings. UTF-8 is very widely used in the Unix/Linux and Web worlds, and many programmers argue UTF-8 should be the default encoding everywhere.  However, UTF-8 isn’t a drop-in replacement for ASCII strings in all respects. For instance, code that iterates over the “characters” in a string will need to decode UTF-8 and iterate over code points (or maybe grapheme clusters—more about those later), not bytes. When you measure the “length” of a string, you’ll need to think about whether you want the length in bytes, the length in code points, the width of the text when rendered, or something else.  UTF-16 The other encoding that you’re likely to encounter is UTF-16. It uses 16-bit words, with each code point stored as either 1 or 2 words.  Like UTF-8, we can express the UTF-16 encoding rules in the form of binary prefixes:  UTF-16 (binary)\\tCode point (binary)\\tRange xxxxxxxxxxxxxxxx\\txxxxxxxxxxxxxxxx\\tU+0000–U+FFFF 110110xxxxxxxxxx 110111yyyyyyyyyy\\txxxxxxxxxxyyyyyyyyyy + 0x10000\\tU+10000–U+10FFFF A more common way that people talk about UTF-16 encoding, though, is in terms of code points called “surrogates”. All the code points in the range U+D800–U+DFFF—or in other words, the code points that match the binary prefixes 110110 and 110111 in the table above—are reserved specifically for UTF-16 encoding, and don’t represent any valid characters on their own. They’re only meant to occur in the 2-word encoding pattern above, which is called a “surrogate pair”. Surrogate code points are illegal in any other context! They’re not allowed in UTF-8 or UTF-32 at all.  Historically, UTF-16 is a descendant of the original, pre-1996 versions of Unicode, in which there were only 65,536 code points. The original intention was that there would be no different “encodings”; Unicode was supposed to be a straightforward 16-bit character set. Later, the codespace was expanded to make room for a long tail of less-common (but still important) Han characters, which the Unicode designers didn’t originally plan for. Surrogates were then introduced, as—to put it bluntly—a kludge, allowing 16-bit encodings to access the new code points.  Today, Javascript uses UTF-16 as its standard string representation: if you ask for the length of a string, or iterate over it, etc., the result will be in UTF-16 words, with any code points outside the BMP expressed as surrogate pairs. UTF-16 is also used by the Microsoft Win32 APIs; though Win32 supports either 8-bit or 16-bit strings, the 8-bit version unaccountably still doesn’t support UTF-8—only legacy code-page encodings, like ANSI. This leaves UTF-16 as the only way to get proper Unicode support in Windows. (Update: in Win10 version 1903, they finally added UTF-8 support to the 8-bit APIs! 😊)  By the way, UTF-16’s words can be stored either little-endian or big-endian. Unicode has no opinion on that issue, though it does encourage the convention of putting U+FEFF zero width no-break space at the top of a UTF-16 file as a byte-order mark, to disambiguate the endianness. (If the file doesn’t match the system’s endianness, the BOM will be decoded as U+FFFE, which isn’t a valid code point.)  Combining Marks In the story so far, we’ve been focusing on code points. But in Unicode, a “character” can be more complicated than just an individual code point!  Unicode includes a system for dynamically composing characters, by combining multiple code points together. This is used in various ways to gain flexibility without causing a huge combinatorial explosion in the number of code points.  In European languages, for example, this shows up in the application of diacritics to letters. Unicode supports a wide range of diacritics, including acute and grave accents, umlauts, cedillas, and many more. All these diacritics can be applied to any letter of any alphabet—and in fact, multiple diacritics can be used on a single letter.  If Unicode tried to assign a distinct code point to every possible combination of letter and diacritics, things would rapidly get out of hand. Instead, the dynamic composition system enables you to construct the character you want, by starting with a base code point (the letter) and appending additional code points, called “combining marks”, to specify the diacritics. When a text renderer sees a sequence like this in a string, it automatically stacks the diacritics over or under the base letter to create a composed character.  For example, the accented character “Á” can be expressed as a string of two code points: U+0041 “A” latin capital letter a plus U+0301 “◌́” combining acute accent. This string automatically gets rendered as a single character: “Á”.  Now, Unicode does also include many “precomposed” code points, each representing a letter with some combination of diacritics already applied, such as U+00C1 “Á” latin capital letter a with acute or U+1EC7 “ệ” latin small letter e with circumflex and dot below. I suspect these are mostly inherited from older encodings that were assimilated into Unicode, and kept around for compatibility. In practice, there are precomposed code points for most of the common letter-with-diacritic combinations in European-script languages, so they don’t use dynamic composition that much in typical text.  Still, the system of combining marks does allow for an arbitrary number of diacritics to be stacked on any base character. The reductio-ad-absurdum of this is Zalgo text, which works by ͖͟ͅr͞aṋ̫̠̖͈̗d͖̻̹óm̪͙͕̗̝ļ͇̰͓̳̫ý͓̥̟͍ ̕s̫t̫̱͕̗̰̼̘͜a̼̩͖͇̠͈̣͝c̙͍k̖̱̹͍͘i̢n̨̺̝͇͇̟͙ģ̫̮͎̻̟ͅ ̕n̼̺͈͞u̮͙m̺̭̟̗͞e̞͓̰̤͓̫r̵o̖ṷs҉̪͍̭̬̝̤ ̮͉̝̞̗̟͠d̴̟̜̱͕͚i͇̫̼̯̭̜͡ḁ͙̻̼c̲̲̹r̨̠̹̣̰̦i̱t̤̻̤͍͙̘̕i̵̜̭̤̱͎c̵s ͘o̱̲͈̙͖͇̲͢n͘ ̜͈e̬̲̠̩ac͕̺̠͉h̷̪ ̺̣͖̱ḻ̫̬̝̹ḙ̙̺͙̭͓̲t̞̞͇̲͉͍t̷͔̪͉̲̻̠͙e̦̻͈͉͇r͇̭̭̬͖,̖́ ̜͙͓̣̭s̘̘͈o̱̰̤̲ͅ ̛̬̜̙t̼̦͕̱̹͕̥h̳̲͈͝ͅa̦t̻̲ ̻̟̭̦̖t̛̰̩h̠͕̳̝̫͕e͈̤̘͖̞͘y҉̝͙ ̷͉͔̰̠o̞̰v͈͈̳̘͜er̶f̰͈͔ḻ͕̘̫̺̲o̲̭͙͠ͅw̱̳̺ ͜t̸h͇̭͕̳͍e̖̯̟̠ ͍̞̜͔̩̪͜ļ͎̪̲͚i̝̲̹̙̩̹n̨̦̩̖ḙ̼̲̼͢ͅ ̬͝s̼͚̘̞͝p͙̘̻a̙c҉͉̜̤͈̯̖i̥͡n̦̠̱͟g̸̗̻̦̭̮̟ͅ ̳̪̠͖̳̯̕a̫͜n͝d͡ ̣̦̙ͅc̪̗r̴͙̮̦̹̳e͇͚̞͔̹̫͟a̙̺̙ț͔͎̘̹ͅe̥̩͍ a͖̪̜̮͙̹n̢͉̝ ͇͉͓̦̼́a̳͖̪̤̱p̖͔͔̟͇͎͠p̱͍̺ę̲͎͈̰̲̤̫a̯͜r̨̮̫̣̘a̩̯͖n̹̦̰͎̣̞̞c̨̦̱͔͎͍͖e̬͓͘ ̤̰̩͙̤̬͙o̵̼̻̬̻͇̮̪f̴ ̡̙̭͓͖̪̤“̸͙̠̼c̳̗͜o͏̼͙͔̮r̞̫̺̞̥̬ru̺̻̯͉̭̻̯p̰̥͓̣̫̙̤͢t̳͍̳̖ͅi̶͈̝͙̼̙̹o̡͔n̙̺̹̖̩͝ͅ”̨̗͖͚̩.̯͓  A few other places where dynamic character composition shows up in Unicode:  Vowel-pointing notation in Arabic and Hebrew. In these languages, words are normally spelled with some of their vowels left out. They then have diacritic notation to indicate the vowels (used in dictionaries, language-teaching materials, children’s books, and such). These diacritics are expressed with combining marks.  A Hebrew example, with niqqud:\\tאֶת דַלְתִּי הֵזִיז הֵנִיעַ, קֶטֶב לִשְׁכַּתִּי יָשׁוֹד Normal writing (no niqqud):\\tאת דלתי הזיז הניע, קטב לשכתי ישוד Devanagari, the script used to write Hindi, Sanskrit, and many other South Asian languages, expresses certain vowels as combining marks attached to consonant letters. For example, “ह” + “\\u200bि” = “हि” (“h” + “i” = “hi”). Korean characters stand for syllables, but they are composed of letters called jamo that stand for the vowels and consonants in the syllable. While there are code points for precomposed Korean syllables, it’s also possible to dynamically compose them by concatenating their jamo. For example, “ᄒ” + “ᅡ” + “ᆫ” = “한” (“h” + “a” + “n” = “han”). Canonical Equivalence In Unicode, precomposed characters exist alongside the dynamic composition system. A consequence of this is that there are multiple ways to express “the same” string—different sequences of code points that result in the same user-perceived characters. For example, as we saw earlier, we can express the character “Á” either as the single code point U+00C1, or as the string of two code points U+0041 U+0301.  Another source of ambiguity is the ordering of multiple diacritics in a single character. Diacritic order matters visually when two diacritics apply to the same side of the base character, e.g. both above: “ǡ” (dot, then macron) is different from “ā̇” (macron, then dot). However, when diacritics apply to different sides of the character, e.g. one above and one below, then the order doesn’t affect rendering. Moreover, a character with multiple diacritics might have one of the diacritics precomposed and others expressed as combining marks.  For example, the Vietnamese letter “ệ” can be expressed in five different ways:  Fully precomposed: U+1EC7 “ệ” Partially precomposed: U+1EB9 “ẹ” + U+0302 “◌̂” Partially precomposed: U+00EA “ê” + U+0323 “◌̣” Fully decomposed: U+0065 “e” + U+0323 “◌̣” + U+0302 “◌̂” Fully decomposed: U+0065 “e” + U+0302 “◌̂” + U+0323 “◌̣” Unicode refers to set of strings like this as “canonically equivalent”. Canonically equivalent strings are supposed to be treated as identical for purposes of searching, sorting, rendering, text selection, and so on. This has implications for how you implement operations on text. For example, if an app has a “find in file” operation and the user searches for “ệ”, it should, by default, find occurrences of any of the five versions of “ệ” above!  Normalization Forms To address the problem of “how to handle canonically equivalent strings”, Unicode defines several normalization forms: ways of converting strings into a canonical form so that they can be compared code-point-by-code-point (or byte-by-byte).  The “NFD” normalization form fully decomposes every character down to its component base and combining marks, taking apart any precomposed code points in the string. It also sorts the combining marks in each character according to their rendered position, so e.g. diacritics that go below the character come before the ones that go above the character. (It doesn’t reorder diacritics in the same rendered position, since their order matters visually, as previously mentioned.)  The “NFC” form, conversely, puts things back together into precomposed code points as much as possible. If an unusual combination of diacritics is called for, there may not be any precomposed code point for it, in which case NFC still precomposes what it can and leaves any remaining combining marks in place (again ordered by rendered position, as in NFD).  There are also forms called NFKD and NFKC. The “K” here refers to compatibility decompositions, which cover characters that are “similar” in some sense but not visually identical. However, I’m not going to cover that here.  Grapheme Clusters As we’ve seen, Unicode contains various cases where a thing that a user thinks of as a single “character” might actually be made up of multiple code points under the hood. Unicode formalizes this using the notion of a grapheme cluster: a string of one or more code points that constitute a single “user-perceived character”.  UAX #29 defines the rules for what, precisely, qualifies as a grapheme cluster. It’s approximately “a base code point followed by any number of combining marks”, but the actual definition is a bit more complicated; it accounts for things like Korean jamo, and emoji ZWJ sequences.  The main thing grapheme clusters are used for is text editing: they’re often the most sensible unit for cursor placement and text selection boundaries. Using grapheme clusters for these purposes ensures that you can’t accidentally chop off some diacritics when you copy-and-paste text, that left/right arrow keys always move the cursor by one visible character, and so on.  Another place where grapheme clusters are useful is in enforcing a string length limit—say, on a database field. While the true, underlying limit might be something like the byte length of the string in UTF-8, you wouldn’t want to enforce that by just truncating bytes. At a minimum, you’d want to “round down” to the nearest code point boundary; but even better, round down to the nearest grapheme cluster boundary. Otherwise, you might be corrupting the last character by cutting off a diacritic, or interrupting a jamo sequence or ZWJ sequence.  And More… There’s much more that could be said about Unicode from a programmer’s perspective! I haven’t gotten into such fun topics as case mapping, collation, compatibility decompositions and confusables, Unicode-aware regexes, or bidirectional text. Nor have I said anything yet about implementation issues—how to efficiently store and look-up data about the sparsely-assigned code points, or how to optimize UTF-8 decoding, string comparison, or NFC normalization. Perhaps I’ll return to some of those things in future posts.  Unicode is a fascinating and complex system. It has a many-to-one mapping between bytes and code points, and on top of that a many-to-one (or, under some circumstances, many-to-many) mapping between code points and “characters”. It has oddball special cases in every corner. But no one ever claimed that representing all written languages was going to be easy, and it’s clear that we’re never going back to the bad old days of a patchwork of incompatible encodings.  Further reading:  The Unicode Standard UTF-8 Everywhere Manifesto Dark corners of Unicode by Eevee ICU (International Components for Unicode)—C/C++/Java libraries implementing many Unicode algorithms and related things Python 3 Unicode Howto Google Noto Fonts—set of fonts intended to cover all assigned code points\"\"\""
   ]
  },
  {
   "cell_type": "code",
   "execution_count": 82,
   "id": "8581ce69",
   "metadata": {},
   "outputs": [
    {
     "name": "stdout",
     "output_type": "stream",
     "text": [
      "24597\n"
     ]
    }
   ],
   "source": [
    "tokens = text.encode(\"utf-8\") # raw bytes\n",
    "tokens = list(map(int, tokens)) # convert to a list of integers in range 0..255 for convenience\n",
    "print(len(tokens))"
   ]
  },
  {
   "cell_type": "code",
   "execution_count": 83,
   "id": "8ea78ed6",
   "metadata": {},
   "outputs": [],
   "source": [
    "def get_counts_of_pair(tokens_lst:list):\n",
    "    counts = {}\n",
    "    for pair in zip(tokens_lst, tokens_lst[1:]):\n",
    "        counts[pair] = counts.get(pair, 0) + 1\n",
    "    \n",
    "    return counts\n",
    "\n",
    "def merge_pair(tokens_lst:list, pair, new_token):\n",
    "    new_tokens_lst = []\n",
    "    i = 0\n",
    "    while i < len(tokens_lst):\n",
    "        # check the consecutive two in current position with the pair\n",
    "        if i < len(tokens_lst) - 1 and tokens_lst[i] == pair[0] and tokens_lst[i+1] == pair[1]: # 当前 i, i+1 两个位置 组成 pair\n",
    "            new_tokens_lst.append(new_token) # i 位置 记录 new_token\n",
    "            i += 2 # i+1 位置被跳过, compress。下一轮 检查 i+2 位置\n",
    "        else: # 当前 i, i+1 两个位置 不组成 pair, 或者 i 已经是 last token\n",
    "            new_tokens_lst.append( tokens_lst[i] ) # i 位置 记录 原 i 位置 token\n",
    "            i += 1 # 下一轮 检查 i+1位置\n",
    "    \n",
    "    return new_tokens_lst"
   ]
  },
  {
   "cell_type": "code",
   "execution_count": 84,
   "id": "0bde7b42",
   "metadata": {},
   "outputs": [
    {
     "name": "stdout",
     "output_type": "stream",
     "text": [
      "merging (101, 32) into a new token 256\n",
      "merging (105, 110) into a new token 257\n",
      "merging (115, 32) into a new token 258\n",
      "merging (116, 104) into a new token 259\n",
      "merging (101, 114) into a new token 260\n",
      "merging (99, 111) into a new token 261\n",
      "merging (116, 32) into a new token 262\n",
      "merging (226, 128) into a new token 263\n",
      "merging (44, 32) into a new token 264\n",
      "merging (97, 110) into a new token 265\n",
      "merging (111, 114) into a new token 266\n",
      "merging (100, 32) into a new token 267\n",
      "merging (97, 114) into a new token 268\n",
      "merging (101, 110) into a new token 269\n",
      "merging (257, 103) into a new token 270\n",
      "merging (261, 100) into a new token 271\n",
      "merging (121, 32) into a new token 272\n",
      "merging (46, 32) into a new token 273\n",
      "merging (97, 108) into a new token 274\n",
      "merging (259, 256) into a new token 275\n"
     ]
    }
   ],
   "source": [
    "vocab_size = 276\n",
    "num_merges = vocab_size - 256 # 20 merges, add 20 new tokens\n",
    "\n",
    "merges = {} # maintain a mapping for (token_Left, token_Right) --> token_merged, a recorder 记录 token 合并的过程\n",
    "# for char-level，从 (token_Left, token_Right) 到 token_merged 的映射是简单的，concate token_Left & token_Right with no space 即可\n",
    "# for byte-level, token_Left 和 token_Right 都是 integers（最初始都是 0<->255)，如何 找到 唯一的 token_merged？\n",
    "# 答：以 merge 的次序 rank 赋给 token_merged。两个作用，一来 rank 具有 唯一性，它具体的 merge 路径信息 维护在 merges 里；二来 rank 标识了 merge 的先后，而\n",
    "# 在 encode 的时候，有一种 非贪婪 的encode办法，就是从头开始不断遍历、合并\n",
    "for i in range(num_merges):\n",
    "    pair_counts = get_counts_of_pair(tokens) # dict of key: consecutive tokens pair tuple, value: key occurance as pair\n",
    "    top_pair = max(pair_counts, key=pair_counts.get) # pair of tokens tuple. here we can improve it with more subtle selection\n",
    "    new_token = i + 256 # 以 rank 为 new token\n",
    "    print(f'merging {top_pair} into a new token {new_token}')\n",
    "    tokens = merge_pair(tokens, top_pair, new_token) # tokens 更新, occur-most pair of tokens merged\n",
    "    # 在 tokens list 中，merged pair 被一个 彻底全新的 new_token 替代，所以在下一轮 merge 中，能确保已经被 merge 过的 pair 绝对不会再在 tokens 中出现\n",
    "    merges[top_pair] = new_token # 记录 merge 记录."
   ]
  },
  {
   "cell_type": "code",
   "execution_count": 85,
   "id": "cf0db68e",
   "metadata": {},
   "outputs": [
    {
     "name": "stdout",
     "output_type": "stream",
     "text": [
      "original tokeans length: 24597\n",
      "tokens length: 19438\n",
      "compression rate: 1.27\n"
     ]
    }
   ],
   "source": [
    "# compression\n",
    "ori_tokens = list( map(int, text.encode('utf-8')) )\n",
    "print(f'original tokeans length: {len(ori_tokens)}')\n",
    "print(f'tokens length: {len(tokens)}')\n",
    "print(f'compression rate: {len(ori_tokens)/len(tokens):.2f}')"
   ]
  },
  {
   "cell_type": "code",
   "execution_count": 86,
   "id": "1e318236",
   "metadata": {},
   "outputs": [],
   "source": [
    "# try char level\n",
    "# merges = {}\n",
    "# tokens = list(text.replace(' ', chr(0x2581)))\n",
    "# for i in range(num_merges):\n",
    "#     pair_counts = get_counts_of_pair(tokens) # dict of key: consecutive tokens pair tuple, value: key occurance as pair\n",
    "#     top_pair = max(pair_counts, key=pair_counts.get) # pair of tokens tuple. here we can improve it with more subtle selection\n",
    "#     new_token = ''.join(top_pair) # 以 rank 为 new token\n",
    "#     print(f'merging {top_pair} into a new token {new_token}')\n",
    "#     tokens = merge_pair(tokens, top_pair, new_token) # tokens 更新, occur-most pair of tokens merged\n",
    "#     # 在 tokens list 中，merged pair 被一个 彻底全新的 new_token 替代，所以在下一轮 merge 中，能确保已经被 merge 过的 pair 绝对不会再在 tokens 中出现\n",
    "#     merges[top_pair] = new_token # 记录 merge 记录."
   ]
  },
  {
   "cell_type": "code",
   "execution_count": 87,
   "id": "72c4dcfb",
   "metadata": {},
   "outputs": [],
   "source": [
    "# decode: from token sequence to raw text\n",
    "# byte-level\n",
    "# step1: build a vocab from merges: mapping token ID to string bytes\n",
    "\n",
    "# initialize vocab with mapping of 0<->255 integer to bytes\n",
    "vocab = {idx:bytes([idx]) for idx in range(256)}\n",
    "# 遍历 merges(必须按照 merge 的顺序遍历, 所以这里按理要先 排序一遍), 由于 >255 的 ID 可以由 0<>255 的 bytes 合并而来, 所以按序可以重构bytes\n",
    "for (L_int, R_int), merged_int in merges.items(): # after python3.7, .items / .get / .value methods return will preserve the order of insertion\n",
    "    vocab[merged_int] = vocab[L_int] + vocab[R_int] # two bytes concatenate\n",
    "    \n",
    "\n",
    "def decode(ids:list[int]): # 拿到所有 indices 之后的 统一解码, 而不是流式解码\n",
    "    tokens_bytes = b''.join( [vocab[idx] for idx in ids] )\n",
    "    text = tokens_bytes.decode('utf-8', errors='replace') # 容错机制：错误的字节序列使用一个 replacement char 来替代\n",
    "    return text\n"
   ]
  },
  {
   "cell_type": "code",
   "execution_count": 88,
   "id": "7e3158c4",
   "metadata": {},
   "outputs": [
    {
     "name": "stdout",
     "output_type": "stream",
     "text": [
      "Invalid bytes decoded: 'hello�world�'\n"
     ]
    }
   ],
   "source": [
    "# decode with errors = replace\n",
    "# 从 bytes integer 解码到 string，需要 bytes integer 遵循 utf-8 规范。如果 LLM 生成的 bytes tokens 遇到无效字节\n",
    "# 即如果 decoder 遇到一个或多个字节，它们不符合 UTF-8 编码的任何有效字符模式（例如，一个字节序列不构成一个完整的 UTF-8 字符，或者它超出了 Unicode 范围），\n",
    "# Python 会将其识别为编码错误，替换为 U+FFFD (REPLACEMENT CHARACTER)\n",
    "# decoder 会用 Unicode 中的 REPLACEMENT CHARACTER (替换字符) U+FFFD 来替换掉这个无效的字节序列。在大多数显示环境中，U+FFFD 通常显示为一个菱形内部带问号的符号\n",
    "\n",
    "# 以下是两个无效的 UTF-8 字节序列：\n",
    "# b'\\xff' 在 UTF-8 中是无效的起始字节\n",
    "# b'\\xe4\\xbd' 是一个 UTF-8 字符的开头，但它缺少第三个字节\n",
    "invalid_bytes = b'hello\\xffworld\\xe4\\xbd'\n",
    "decoded_invalid = invalid_bytes.decode('utf-8', errors='replace')\n",
    "print(f\"Invalid bytes decoded: '{decoded_invalid}'\")"
   ]
  },
  {
   "cell_type": "code",
   "execution_count": 89,
   "id": "430ce697",
   "metadata": {},
   "outputs": [],
   "source": [
    "# encode: from raw text to token sequence\n",
    "# byte-level\n",
    "# greedy encode: 在 vocab 中查找尽量长的 token 以匹配，切掉 匹配到的部分后，对剩下的 未切片部分重新查找尽量长的 token 以匹配\n",
    "#   manyyes --> many, yes\n",
    "# merge-order encode: rank_of_merge:            m_a, e_s, ma_n, y_y, man_y, y_es\n",
    "#   一轮循环 merge一种pair：      m, a, n, y, y, e, s ---> ma, n, y, y, e, s ---> ma, n, y ,y , es ---> man, y, y, es ---> man, yy, es\n",
    "\n",
    "#   一轮循环 merge多次（递归）：m, a, n, y, y, e, s ---> ma, n, yy, es ---> ma, n, y ,y , es ---> man, y, y, es ---> man, yy, es\n",
    "\n",
    "def encode(text):\n",
    "    tokens_bytes = text.encode('utf-8')\n",
    "    tokens_ints = list(map(int, tokens_bytes))\n",
    "    # [116, 32, 98, 101, 32, 97, 32, 114]\n",
    "    # merges {(101, 32): 256, (256, 105):257, (114, 101):258}\n",
    "    while True:\n",
    "        counts = get_counts_of_pair(tokens_ints) # all {consecutive pair: occurance}\n",
    "        # find the pair in counts with min rank in merge\n",
    "        # 找到 counts 中，最早在 merges 中出现的 pair（意味着最早被 merge 的pair) \n",
    "        pair = min( counts, key=lambda p: merges.get(p, float('inf')) ) # min 函数作用在 iterable object 上，iterable object 会把 all elements 先输入 key fn, 再根据各个 return 选择最小\n",
    "        # min 自动返回 自定义的最小，if all as float('inf') 这个时候其实是 counts 中没一个 pair 在 merges 里，也就是说 tokens_ints 里没有需要 merge 的了\n",
    "        if pair not in merges:\n",
    "            break\n",
    "\n",
    "        tokens_ints = merge_pair(tokens_ints, pair, merges[pair]) # merge pair. tokens_ints 被完整更新一遍\n",
    "    \n",
    "    return tokens_ints"
   ]
  },
  {
   "cell_type": "code",
   "execution_count": 91,
   "id": "1904a794",
   "metadata": {},
   "outputs": [],
   "source": [
    "tokens = encode(text)"
   ]
  },
  {
   "cell_type": "code",
   "execution_count": 92,
   "id": "59911bb5",
   "metadata": {},
   "outputs": [
    {
     "name": "stdout",
     "output_type": "stream",
     "text": [
      "length of original bytes 24597\n",
      "length of encoded bytes 19438\n"
     ]
    }
   ],
   "source": [
    "print(f'length of original bytes {len(ori_tokens)}')\n",
    "print(f'length of encoded bytes {len(tokens)}')"
   ]
  }
 ],
 "metadata": {
  "kernelspec": {
   "display_name": "dl",
   "language": "python",
   "name": "python3"
  },
  "language_info": {
   "codemirror_mode": {
    "name": "ipython",
    "version": 3
   },
   "file_extension": ".py",
   "mimetype": "text/x-python",
   "name": "python",
   "nbconvert_exporter": "python",
   "pygments_lexer": "ipython3",
   "version": "3.12.9"
  }
 },
 "nbformat": 4,
 "nbformat_minor": 5
}
