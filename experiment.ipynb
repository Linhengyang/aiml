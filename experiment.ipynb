{
 "cells": [
  {
   "cell_type": "code",
   "execution_count": 14,
   "id": "c37c9180",
   "metadata": {},
   "outputs": [],
   "source": [
    "import os\n",
    "import warnings\n",
    "warnings.filterwarnings(\"ignore\")\n",
    "import torch\n",
    "from torch import Tensor\n",
    "import torch.nn as nn\n",
    "import pandas as pd\n",
    "import numpy as np\n",
    "import random"
   ]
  },
  {
   "cell_type": "code",
   "execution_count": 2,
   "id": "1df0ba70",
   "metadata": {},
   "outputs": [],
   "source": [
    "base_data_dir = '../../data'\n",
    "word2vec_dir = 'word2vec/ptb'\n",
    "ptb_train_fname = 'ptb.train.txt'"
   ]
  },
  {
   "cell_type": "code",
   "execution_count": 3,
   "id": "167909fb",
   "metadata": {},
   "outputs": [],
   "source": [
    "with open(os.path.join(base_data_dir, word2vec_dir, ptb_train_fname)) as f:\n",
    "    raw_text = f.read()"
   ]
  },
  {
   "cell_type": "code",
   "execution_count": 64,
   "id": "40fa8cb5",
   "metadata": {},
   "outputs": [],
   "source": [
    "x = torch.tensor([[0], [1], [2]])\n",
    "y = torch.tensor([[4, 5, 6], [7,8,9], [1,2,3]])\n",
    "embed = nn.Embedding(20, 4)\n",
    "x_ = embed(x)\n",
    "y_ = embed(y)"
   ]
  },
  {
   "cell_type": "code",
   "execution_count": 65,
   "id": "f92cd3c5",
   "metadata": {},
   "outputs": [
    {
     "data": {
      "text/plain": [
       "tensor([[[ 2.0749, -1.2254,  0.9129, -1.0962],\n",
       "         [-0.2753,  1.0858,  0.1818, -1.4332],\n",
       "         [-1.8281,  0.9873,  1.0029,  0.4711]],\n",
       "\n",
       "        [[ 0.0777, -0.5323, -1.3714,  0.6701],\n",
       "         [-0.3558,  0.0751, -0.8888,  2.1104],\n",
       "         [ 0.3840,  0.5332,  0.8989,  0.6159]],\n",
       "\n",
       "        [[-1.3351, -0.8751, -1.2397,  0.3668],\n",
       "         [-1.5908, -0.3215,  0.5512, -1.0893],\n",
       "         [-1.2385,  0.1078, -0.2176,  0.1844]]], grad_fn=<EmbeddingBackward0>)"
      ]
     },
     "execution_count": 65,
     "metadata": {},
     "output_type": "execute_result"
    }
   ],
   "source": [
    "y_"
   ]
  },
  {
   "cell_type": "code",
   "execution_count": 66,
   "id": "6330acd7",
   "metadata": {},
   "outputs": [
    {
     "data": {
      "text/plain": [
       "tensor([[4, 5, 6],\n",
       "        [7, 8, 9],\n",
       "        [1, 2, 3]])"
      ]
     },
     "execution_count": 66,
     "metadata": {},
     "output_type": "execute_result"
    }
   ],
   "source": [
    "y"
   ]
  },
  {
   "cell_type": "code",
   "execution_count": 67,
   "id": "a8af06eb",
   "metadata": {},
   "outputs": [
    {
     "data": {
      "text/plain": [
       "tensor([[[-1.0497, -1.7856,  1.2722,  1.1696]],\n",
       "\n",
       "        [[-1.3351, -0.8751, -1.2397,  0.3668]],\n",
       "\n",
       "        [[-1.5908, -0.3215,  0.5512, -1.0893]]], grad_fn=<EmbeddingBackward0>)"
      ]
     },
     "execution_count": 67,
     "metadata": {},
     "output_type": "execute_result"
    }
   ],
   "source": [
    "x_"
   ]
  },
  {
   "cell_type": "code",
   "execution_count": 70,
   "id": "b48d2ffb",
   "metadata": {},
   "outputs": [
    {
     "data": {
      "text/plain": [
       "tensor([[[ 2.0749, -1.2254,  0.9129, -1.0962],\n",
       "         [-0.2753,  1.0858,  0.1818, -1.4332],\n",
       "         [-1.8281,  0.9873,  1.0029,  0.4711]],\n",
       "\n",
       "        [[ 0.0777, -0.5323, -1.3714,  0.6701],\n",
       "         [-0.3558,  0.0751, -0.8888,  2.1104],\n",
       "         [ 0.3840,  0.5332,  0.8989,  0.6159]],\n",
       "\n",
       "        [[-1.3351, -0.8751, -1.2397,  0.3668],\n",
       "         [-1.5908, -0.3215,  0.5512, -1.0893],\n",
       "         [-1.2385,  0.1078, -0.2176,  0.1844]]], grad_fn=<EmbeddingBackward0>)"
      ]
     },
     "execution_count": 70,
     "metadata": {},
     "output_type": "execute_result"
    }
   ],
   "source": [
    "y_"
   ]
  },
  {
   "cell_type": "code",
   "execution_count": 68,
   "id": "4540e397",
   "metadata": {},
   "outputs": [
    {
     "data": {
      "text/plain": [
       "tensor([[-0.1108, -3.0948,  1.9831],\n",
       "        [ 2.3080,  2.2853, -1.8678],\n",
       "        [ 1.3224,  4.1245,  1.6148]], grad_fn=<SumBackward1>)"
      ]
     },
     "execution_count": 68,
     "metadata": {},
     "output_type": "execute_result"
    }
   ],
   "source": [
    "(x_.expand(-1, 3, -1) * y_).sum(dim=-1)"
   ]
  },
  {
   "cell_type": "code",
   "execution_count": 69,
   "id": "a7ff73fe",
   "metadata": {},
   "outputs": [
    {
     "data": {
      "text/plain": [
       "tensor([[[-0.1108, -3.0948,  1.9831]],\n",
       "\n",
       "        [[ 2.3080,  2.2853, -1.8678]],\n",
       "\n",
       "        [[ 1.3224,  4.1245,  1.6148]]], grad_fn=<BmmBackward0>)"
      ]
     },
     "execution_count": 69,
     "metadata": {},
     "output_type": "execute_result"
    }
   ],
   "source": [
    "torch.bmm(x_, y_.permute(0,2,1))"
   ]
  },
  {
   "cell_type": "code",
   "execution_count": 71,
   "id": "8edba377",
   "metadata": {},
   "outputs": [
    {
     "data": {
      "text/plain": [
       "tensor([[0.3333, 0.3333, 0.3333, 0.0000, 0.0000],\n",
       "        [0.5000, 0.5000, 0.0000, 0.0000, 0.0000]])"
      ]
     },
     "execution_count": 71,
     "metadata": {},
     "output_type": "execute_result"
    }
   ],
   "source": [
    "masks = torch.tensor([[1, 1, 1, 0, 0], [1,1,0,0,0]])\n",
    "masks / masks.sum(dim=1, keepdim=True)"
   ]
  }
 ],
 "metadata": {
  "kernelspec": {
   "display_name": "study",
   "language": "python",
   "name": "python3"
  },
  "language_info": {
   "codemirror_mode": {
    "name": "ipython",
    "version": 3
   },
   "file_extension": ".py",
   "mimetype": "text/x-python",
   "name": "python",
   "nbconvert_exporter": "python",
   "pygments_lexer": "ipython3",
   "version": "3.10.9"
  },
  "vscode": {
   "interpreter": {
    "hash": "81b0bd1c56595d2e11429bb1af0ffa8a1550d993af8a59c01efaa46355771b1c"
   }
  }
 },
 "nbformat": 4,
 "nbformat_minor": 5
}
