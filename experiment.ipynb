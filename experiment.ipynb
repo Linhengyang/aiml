{
 "cells": [
  {
   "cell_type": "code",
   "execution_count": 1,
   "id": "c37c9180",
   "metadata": {},
   "outputs": [],
   "source": [
    "import os\n",
    "import warnings\n",
    "warnings.filterwarnings(\"ignore\")\n",
    "import torch\n",
    "from torch import Tensor\n",
    "import torch.nn as nn\n",
    "import pandas as pd\n",
    "import numpy as np"
   ]
  },
  {
   "cell_type": "code",
   "execution_count": 20,
   "id": "00ab071e",
   "metadata": {},
   "outputs": [],
   "source": [
    "preds = torch.tensor([[0.5, 0.4, 0.3, 0.1],\n",
    "                      [0.9, 0.2, 0.7, 0.8]])\n",
    "labels = torch.tensor([[0., 1., 1., 0.],\n",
    "                       [1., 0., 0., 0.]])"
   ]
  },
  {
   "cell_type": "code",
   "execution_count": 32,
   "id": "8afab4fa",
   "metadata": {},
   "outputs": [
    {
     "data": {
      "text/plain": [
       "tensor([[0.6931, 0.9163, 1.2040, 0.1054],\n",
       "        [0.1054, 0.2231, 1.2040, 1.6094]])"
      ]
     },
     "execution_count": 32,
     "metadata": {},
     "output_type": "execute_result"
    }
   ],
   "source": [
    "loss = nn.BCELoss(reduction='none')\n",
    "loss(preds, labels)"
   ]
  },
  {
   "cell_type": "code",
   "execution_count": 29,
   "id": "27545b58",
   "metadata": {},
   "outputs": [],
   "source": [
    "weight = torch.tensor([[1., 2., 3., 4.]])"
   ]
  },
  {
   "cell_type": "code",
   "execution_count": 30,
   "id": "3949a03f",
   "metadata": {},
   "outputs": [],
   "source": [
    "loss = nn.BCELoss(weight=weight, reduction='none')"
   ]
  },
  {
   "cell_type": "code",
   "execution_count": 35,
   "id": "abfb9893",
   "metadata": {},
   "outputs": [
    {
     "data": {
      "text/plain": [
       "tensor([[0.6931, 0.9163, 1.2040, 0.1054],\n",
       "        [0.1054, 0.2231, 1.2040, 1.6094]])"
      ]
     },
     "execution_count": 35,
     "metadata": {},
     "output_type": "execute_result"
    }
   ],
   "source": [
    "loss(preds, labels)"
   ]
  },
  {
   "cell_type": "code",
   "execution_count": 34,
   "id": "338ef7f5",
   "metadata": {},
   "outputs": [
    {
     "data": {
      "text/plain": [
       "tensor([[0.6931, 1.8326, 3.6119, 0.4214],\n",
       "        [0.1054, 0.4463, 3.6119, 6.4378]])"
      ]
     },
     "execution_count": 34,
     "metadata": {},
     "output_type": "execute_result"
    }
   ],
   "source": [
    "torch.mul(weight, loss(preds, labels))"
   ]
  }
 ],
 "metadata": {
  "kernelspec": {
   "display_name": "study",
   "language": "python",
   "name": "python3"
  },
  "language_info": {
   "codemirror_mode": {
    "name": "ipython",
    "version": 3
   },
   "file_extension": ".py",
   "mimetype": "text/x-python",
   "name": "python",
   "nbconvert_exporter": "python",
   "pygments_lexer": "ipython3",
   "version": "3.10.9"
  },
  "vscode": {
   "interpreter": {
    "hash": "81b0bd1c56595d2e11429bb1af0ffa8a1550d993af8a59c01efaa46355771b1c"
   }
  }
 },
 "nbformat": 4,
 "nbformat_minor": 5
}
