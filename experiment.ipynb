{
 "cells": [
  {
   "cell_type": "code",
   "execution_count": 1,
   "id": "c37c9180",
   "metadata": {},
   "outputs": [],
   "source": [
    "import os\n",
    "import warnings\n",
    "warnings.filterwarnings(\"ignore\")\n",
    "import torch\n",
    "import torch.nn as nn\n",
    "import pandas as pd\n",
    "import numpy as np"
   ]
  },
  {
   "cell_type": "code",
   "execution_count": 5,
   "id": "f7e3e4e4",
   "metadata": {},
   "outputs": [],
   "source": [
    "emb = nn.Embedding(5, 2)\n",
    "users = torch.tensor([0,1,4])\n",
    "x = emb(users)"
   ]
  },
  {
   "cell_type": "code",
   "execution_count": 7,
   "id": "7cf0886c",
   "metadata": {},
   "outputs": [
    {
     "data": {
      "text/plain": [
       "tensor([[ 1.0837, -0.7161],\n",
       "        [ 0.7870,  1.4130],\n",
       "        [ 1.4076,  0.1365]], grad_fn=<EmbeddingBackward0>)"
      ]
     },
     "execution_count": 7,
     "metadata": {},
     "output_type": "execute_result"
    }
   ],
   "source": [
    "x"
   ]
  },
  {
   "cell_type": "code",
   "execution_count": 8,
   "id": "57051668",
   "metadata": {},
   "outputs": [
    {
     "data": {
      "text/plain": [
       "tensor([0.3676, 2.2000, 1.5441], grad_fn=<ReshapeAliasBackward0>)"
      ]
     },
     "execution_count": 8,
     "metadata": {},
     "output_type": "execute_result"
    }
   ],
   "source": [
    "x.sum(dim=1, keepdim=True).flatten()"
   ]
  },
  {
   "cell_type": "code",
   "execution_count": null,
   "id": "3ede2797",
   "metadata": {},
   "outputs": [],
   "source": [
    "# movielens dataset\n",
    "names = ['user_id', 'item_id', 'rating', 'timestamp']\n",
    "data_dir = '../../data/MovieLens/ml-100k'"
   ]
  },
  {
   "cell_type": "code",
   "execution_count": null,
   "id": "ded7c43f",
   "metadata": {},
   "outputs": [],
   "source": [
    "data = pd.read_csv(os.path.join(data_dir, 'u.data'), '\\t', names=names, engine='python')"
   ]
  },
  {
   "cell_type": "code",
   "execution_count": 3,
   "id": "311a8d48",
   "metadata": {},
   "outputs": [
    {
     "data": {
      "text/plain": [
       "(3,)"
      ]
     },
     "execution_count": 3,
     "metadata": {},
     "output_type": "execute_result"
    }
   ],
   "source": [
    "x = ()\n",
    "x += (3,)\n",
    "x"
   ]
  }
 ],
 "metadata": {
  "kernelspec": {
   "display_name": "study",
   "language": "python",
   "name": "python3"
  },
  "language_info": {
   "codemirror_mode": {
    "name": "ipython",
    "version": 3
   },
   "file_extension": ".py",
   "mimetype": "text/x-python",
   "name": "python",
   "nbconvert_exporter": "python",
   "pygments_lexer": "ipython3",
   "version": "3.10.9"
  },
  "vscode": {
   "interpreter": {
    "hash": "81b0bd1c56595d2e11429bb1af0ffa8a1550d993af8a59c01efaa46355771b1c"
   }
  }
 },
 "nbformat": 4,
 "nbformat_minor": 5
}
