{
 "cells": [
  {
   "cell_type": "code",
   "execution_count": 2,
   "id": "c37c9180",
   "metadata": {},
   "outputs": [],
   "source": [
    "import os\n",
    "import warnings\n",
    "warnings.filterwarnings(\"ignore\")\n",
    "import torch\n",
    "import torch.nn as nn\n",
    "import pandas as pd\n",
    "import numpy as np"
   ]
  },
  {
   "cell_type": "code",
   "execution_count": 3,
   "id": "d99a5897",
   "metadata": {},
   "outputs": [],
   "source": [
    "# categorical features parser\n",
    "from collections import defaultdict\n",
    "data_path = '../../data/CTR/train.csv'\n",
    "NUM_FEATS = 34\n",
    "count = 0\n",
    "data = {}\n",
    "# key: 0, {'y':[labels,], 'x':[features,]}\n",
    "feat_cnts = defaultdict(lambda: defaultdict(int)) # 当key不存在时, 返回1个defaultdict(int), 即一个可以默认返回0的dict\n",
    "# key: 1, value: {'VALUEaaaaaaa': cnts_of_VALUEaaaaaaa_in_feat1_among_data, 'VALUEbbbbbbb':cnts_of_VALUEbbbbbbb_in_feat1_among_data, ...}\n",
    "# ...\n",
    "# key: 34, value: {'VALUEppppppp': cnts_of_VALUEppppppp_in_feat34_among_data, 'VALUEqqqqqq':cnts_of_VALUEqqqqqq_in_feat1_among_data, ...}\n",
    "feat_mapper = None\n",
    "defaults = None\n",
    "field_dims = np.zeros(NUM_FEATS, dtype=np.int64)"
   ]
  },
  {
   "cell_type": "code",
   "execution_count": 8,
   "id": "79427311",
   "metadata": {},
   "outputs": [
    {
     "name": "stdout",
     "output_type": "stream",
     "text": [
      "1\t7966771467489568765\t17749416933507762\t3191210455834396616\t1195170026701657\t1748842568874147415\t7675791131320410553\t4701804190580882537\t11082981552768544968\t16217093288348224708\t16756559817343139\t2266126940897637389\t4953446123401968244\t644722993661852468\t7382309247449216475\t4800284767280288085\t2358762240877002707\t16672487388485808195\t8691739813819121124\t3186706665858369067\t11411006900043110081\t7313421385815342575\t3749260986050395326\t6501986202429652599\t575895605287572387\t5152412181489518868\t4800337544597996229\t10796976340558983233\t1270396324967536174\t6591038790241112642\t856756236757155\t339364437345798\t568264607241118\t908188825634590\t429431630298059\n",
      "\n"
     ]
    }
   ],
   "source": [
    "# 每行第一个是label, 1为click, 0为not click\n",
    "# 后面是34个由\\t分开的string, 隐私化后的categorical value\n",
    "with open(data_path) as f:\n",
    "    for line in f:\n",
    "        print(line)\n",
    "        break"
   ]
  },
  {
   "cell_type": "code",
   "execution_count": 11,
   "id": "f9c9a0f6",
   "metadata": {},
   "outputs": [],
   "source": [
    "instance = {}\n",
    "# key:y, value: [label1, label2, ...] of a single sample\n",
    "# key:x, value: [feature1, feature2, ..., feature34] of a single sample\n",
    "values = line.strip('\\n').split('\\t')"
   ]
  },
  {
   "cell_type": "code",
   "execution_count": 16,
   "id": "aa0c2499",
   "metadata": {},
   "outputs": [
    {
     "data": {
      "text/plain": [
       "'1'"
      ]
     },
     "execution_count": 16,
     "metadata": {},
     "output_type": "execute_result"
    }
   ],
   "source": [
    "values[0]"
   ]
  },
  {
   "cell_type": "code",
   "execution_count": 15,
   "id": "4bf20544",
   "metadata": {},
   "outputs": [
    {
     "data": {
      "text/plain": [
       "array([0., 1.], dtype=float32)"
      ]
     },
     "execution_count": 15,
     "metadata": {},
     "output_type": "execute_result"
    }
   ],
   "source": [
    "# 处理label, values[0]\n",
    "label = np.float32([0, 0])\n",
    "label[int(values[0])] = 1 # label=(1,0)代表not-click, label=(0,1)代表click\n",
    "label"
   ]
  },
  {
   "cell_type": "code",
   "execution_count": 18,
   "id": "3fd20eab",
   "metadata": {},
   "outputs": [
    {
     "data": {
      "text/plain": [
       "{'y': [1.0]}"
      ]
     },
     "execution_count": 18,
     "metadata": {},
     "output_type": "execute_result"
    }
   ],
   "source": [
    "instance['y'] = [np.float32(values[0])] # 0-1 label不作index-map处理\n",
    "instance"
   ]
  },
  {
   "cell_type": "code",
   "execution_count": 25,
   "id": "31a9bdac",
   "metadata": {},
   "outputs": [],
   "source": [
    "for i in range(1, NUM_FEATS+1):\n",
    "    feat_cnts[i][values[i]] += 1\n",
    "    instance.setdefault('x', []).append(values[i])"
   ]
  },
  {
   "cell_type": "code",
   "execution_count": 30,
   "id": "6e5e666b",
   "metadata": {},
   "outputs": [
    {
     "data": {
      "text/plain": [
       "{0: {'y': [1.0],\n",
       "  'x': ['7966771467489568765',\n",
       "   '17749416933507762',\n",
       "   '3191210455834396616',\n",
       "   '1195170026701657',\n",
       "   '1748842568874147415',\n",
       "   '7675791131320410553',\n",
       "   '4701804190580882537',\n",
       "   '11082981552768544968',\n",
       "   '16217093288348224708',\n",
       "   '16756559817343139',\n",
       "   '2266126940897637389',\n",
       "   '4953446123401968244',\n",
       "   '644722993661852468',\n",
       "   '7382309247449216475',\n",
       "   '4800284767280288085',\n",
       "   '2358762240877002707',\n",
       "   '16672487388485808195',\n",
       "   '8691739813819121124',\n",
       "   '3186706665858369067',\n",
       "   '11411006900043110081',\n",
       "   '7313421385815342575',\n",
       "   '3749260986050395326',\n",
       "   '6501986202429652599',\n",
       "   '575895605287572387',\n",
       "   '5152412181489518868',\n",
       "   '4800337544597996229',\n",
       "   '10796976340558983233',\n",
       "   '1270396324967536174',\n",
       "   '6591038790241112642',\n",
       "   '856756236757155',\n",
       "   '339364437345798',\n",
       "   '568264607241118',\n",
       "   '908188825634590',\n",
       "   '429431630298059']}}"
      ]
     },
     "execution_count": 30,
     "metadata": {},
     "output_type": "execute_result"
    }
   ],
   "source": [
    "data[count] = instance\n",
    "data"
   ]
  }
 ],
 "metadata": {
  "kernelspec": {
   "display_name": "study",
   "language": "python",
   "name": "python3"
  },
  "language_info": {
   "codemirror_mode": {
    "name": "ipython",
    "version": 3
   },
   "file_extension": ".py",
   "mimetype": "text/x-python",
   "name": "python",
   "nbconvert_exporter": "python",
   "pygments_lexer": "ipython3",
   "version": "3.10.9"
  },
  "vscode": {
   "interpreter": {
    "hash": "81b0bd1c56595d2e11429bb1af0ffa8a1550d993af8a59c01efaa46355771b1c"
   }
  }
 },
 "nbformat": 4,
 "nbformat_minor": 5
}
