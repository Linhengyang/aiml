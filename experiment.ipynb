{
 "cells": [
  {
   "cell_type": "code",
   "execution_count": 54,
   "id": "c37c9180",
   "metadata": {},
   "outputs": [],
   "source": [
    "import os\n",
    "import warnings\n",
    "warnings.filterwarnings(\"ignore\")\n",
    "import torch\n",
    "import torch.nn as nn\n",
    "import pandas as pd\n",
    "import numpy as np"
   ]
  },
  {
   "cell_type": "code",
   "execution_count": null,
   "id": "3ede2797",
   "metadata": {},
   "outputs": [],
   "source": [
    "# movielens dataset\n",
    "names = ['user_id', 'item_id', 'rating', 'timestamp']\n",
    "data_dir = '../../data/MovieLens/ml-100k'"
   ]
  },
  {
   "cell_type": "code",
   "execution_count": null,
   "id": "ded7c43f",
   "metadata": {},
   "outputs": [],
   "source": [
    "data = pd.read_csv(os.path.join(data_dir, 'u.data'), '\\t', names=names, engine='python')"
   ]
  },
  {
   "cell_type": "code",
   "execution_count": null,
   "id": "fa77b6f3",
   "metadata": {},
   "outputs": [],
   "source": [
    "# user & item count\n",
    "num_users = data.user_id.unique().shape[0]\n",
    "num_items = data.item_id.unique().shape[0]"
   ]
  },
  {
   "cell_type": "code",
   "execution_count": null,
   "id": "b4b0f290",
   "metadata": {},
   "outputs": [],
   "source": [
    "# summary\n",
    "sparsity =1 - len(data) / (num_users * num_items)\n",
    "sparsity"
   ]
  },
  {
   "cell_type": "code",
   "execution_count": null,
   "id": "b70c081e",
   "metadata": {},
   "outputs": [],
   "source": [
    "# data split: 每个uid最新的record作为test, 其他record作为train\n",
    "train_items = {} # 记录每个uid, 所有评分records: k:uid, v:[(uid, iid, rating, time), ...]\n",
    "test_items = {} # 记录每个uid, 最新评分records: k:uid, v:(iid, rating, time)\n",
    "train_list = [] # 记录所有评分records (uid, iid, rating, time), ...按照uid、time从小到大排序\n",
    "for line in data.itertuples():\n",
    "    u, i , rating, time = line[1], line[2], line[3], line[4]\n",
    "    train_items.setdefault(u, []).append((u, i, rating, time)) # 记录k-v: key是uid, v是(u,i,r,t)的records\n",
    "    if u not in test_items or test_items[u][-1] < time: # 若这个uid未记录在test_items, 或该行的time比test_items所记录的更大\n",
    "        test_items[u] = (i, rating, time) # 设定/更换test_items中这个uid的最新评分记录\n",
    "for u in range(1, num_users+1): # uid就是1到num_users的自然数字\n",
    "    train_list.extend( sorted(train_items[u], key=lambda k: k[3]) ) # 记录每一个uid的所有评分记录, 按time从小到大排序\n",
    "test_data =  [(key, *value) for key, value in test_items.items()] # 分解test_items到test_data: [(uid, iid, rating, time), ...]\n",
    "train_data = [item for item in train_list if item not in test_data] # 不在test_data里的评分记录, 是train_data\n",
    "train_data = pd.DataFrame(train_data)\n",
    "test_data = pd.DataFrame(test_data)"
   ]
  },
  {
   "cell_type": "code",
   "execution_count": null,
   "id": "4e2593c1",
   "metadata": {},
   "outputs": [],
   "source": [
    "test_ratio = 0.1\n",
    "mask = np.random.uniform(0, 1, (len(data))) < 1 - test_ratio"
   ]
  },
  {
   "cell_type": "code",
   "execution_count": null,
   "id": "492f8af0",
   "metadata": {},
   "outputs": [],
   "source": [
    "# data split: 从所有data中随机取 test_ratio 作为test\n",
    "test_ratio = 0.1\n",
    "mask = np.random.uniform(0, 1, len(data)) < 1 - test_ratio\n",
    "neg_mask = [not x for x in mask]\n",
    "train_data = data[mask]\n",
    "test_data = data[neg_mask]"
   ]
  },
  {
   "cell_type": "code",
   "execution_count": null,
   "id": "de16ff34",
   "metadata": {},
   "outputs": [],
   "source": [
    "test_data.head()"
   ]
  },
  {
   "cell_type": "code",
   "execution_count": null,
   "id": "5c57e7f0",
   "metadata": {},
   "outputs": [],
   "source": [
    "# 因为pd.dataframe数据结构不可以直接用dataloader,所以必须先转化成dataset.\n",
    "# 在这个过程中, 放弃使用user_id和item_id, 使用user_idx = user_id - 1 和item_idx = item_id - 1, 这样可以直接用在矩阵的index上\n",
    "feedback = 'explicit'\n",
    "users, items, scores = [], [], [] # data所有records的user_index, item_index, 以及scores\n",
    "if feedback == 'explicit':\n",
    "    interactions = np.zeros((num_items, num_users)) # 2D array, 每行代表1个item,每列代表1个user,元素代表score. i行j列代表iid=i+1, uid=j+1的打分\n",
    "    for line in data.itertuples():\n",
    "        user_index, item_index = int(line[1]-1), int(line[2]-1) # 记录该record的uid-1作为user_index, iid-1作为item_index\n",
    "        score = int(line[3])\n",
    "        users.append(user_index)\n",
    "        items.append(item_index)\n",
    "        scores.append(score)\n",
    "        interactions[item_index, user_index] = score\n",
    "if feedback == 'implicit':\n",
    "    interactions = {} # dict, key是user_index, value是[item_index1, item_index2,...], 是该user给出隐形行为的item_index列表\n",
    "    for line in data.itertuples():\n",
    "        user_index, item_index = int(line[1]-1), int(line[2]-1)\n",
    "        score = 1\n",
    "        users.append(user_index)\n",
    "        items.append(item_index)\n",
    "        scores.append(score)\n",
    "        interactions.setdefault(user_index, []).append(item_index)\n",
    "user_tensor = torch.tensor(users)\n",
    "item_tensor = torch.tensor(items)\n",
    "score_tensor = torch.tensor(scores)"
   ]
  },
  {
   "cell_type": "code",
   "execution_count": null,
   "id": "ce2230ca",
   "metadata": {},
   "outputs": [],
   "source": [
    "torch.utils.data.TensorDataset(user_tensor, item_tensor, score_tensor)"
   ]
  },
  {
   "cell_type": "code",
   "execution_count": 55,
   "id": "f06d4f90",
   "metadata": {},
   "outputs": [],
   "source": [
    "P = nn.Parameter(torch.randn(3, 2))"
   ]
  },
  {
   "cell_type": "code",
   "execution_count": 56,
   "id": "329d6b58",
   "metadata": {},
   "outputs": [
    {
     "data": {
      "text/plain": [
       "Parameter containing:\n",
       "tensor([[ 1.7630,  0.1453],\n",
       "        [-1.4067,  1.4468],\n",
       "        [ 1.5111, -0.7922]], requires_grad=True)"
      ]
     },
     "execution_count": 56,
     "metadata": {},
     "output_type": "execute_result"
    }
   ],
   "source": [
    "P"
   ]
  }
 ],
 "metadata": {
  "kernelspec": {
   "display_name": "study",
   "language": "python",
   "name": "python3"
  },
  "language_info": {
   "codemirror_mode": {
    "name": "ipython",
    "version": 3
   },
   "file_extension": ".py",
   "mimetype": "text/x-python",
   "name": "python",
   "nbconvert_exporter": "python",
   "pygments_lexer": "ipython3",
   "version": "3.10.9"
  },
  "vscode": {
   "interpreter": {
    "hash": "81b0bd1c56595d2e11429bb1af0ffa8a1550d993af8a59c01efaa46355771b1c"
   }
  }
 },
 "nbformat": 4,
 "nbformat_minor": 5
}
