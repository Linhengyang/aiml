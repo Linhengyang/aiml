{
 "cells": [
  {
   "cell_type": "code",
   "execution_count": 8,
   "id": "c37c9180",
   "metadata": {},
   "outputs": [],
   "source": [
    "import os\n",
    "import warnings\n",
    "warnings.filterwarnings(\"ignore\")\n",
    "import torch\n",
    "import pandas as pd"
   ]
  },
  {
   "cell_type": "code",
   "execution_count": 6,
   "id": "3ede2797",
   "metadata": {},
   "outputs": [],
   "source": [
    "# movielens dataset\n",
    "names = ['user_id', 'item_id', 'rating', 'timestamp']\n",
    "data_dir = '../../data/MovieLens/ml-100k'"
   ]
  },
  {
   "cell_type": "code",
   "execution_count": 9,
   "id": "ded7c43f",
   "metadata": {},
   "outputs": [],
   "source": [
    "data = pd.read_csv(os.path.join(data_dir, 'u.data'), '\\t', names=names, engine='python')"
   ]
  },
  {
   "cell_type": "code",
   "execution_count": 17,
   "id": "fa77b6f3",
   "metadata": {},
   "outputs": [],
   "source": [
    "# user & item count\n",
    "num_users = data.user_id.unique().shape[0]\n",
    "num_items = data.item_id.unique().shape[0]"
   ]
  },
  {
   "cell_type": "code",
   "execution_count": 18,
   "id": "b4b0f290",
   "metadata": {},
   "outputs": [
    {
     "data": {
      "text/plain": [
       "0.9369533063577546"
      ]
     },
     "execution_count": 18,
     "metadata": {},
     "output_type": "execute_result"
    }
   ],
   "source": [
    "# summary\n",
    "sparsity =1 - len(data) / (num_users * num_items)\n",
    "sparsity"
   ]
  },
  {
   "cell_type": "code",
   "execution_count": 19,
   "id": "b70c081e",
   "metadata": {},
   "outputs": [],
   "source": [
    "# data split\n",
    "train_items = {} # 记录每个uid, 所有评分records: k:uid, v:[(uid, iid, rating, time), ...]\n",
    "test_items = {} # 记录每个uid, 最新评分records: k:uid, v:(iid, rating, time)\n",
    "train_list = [] # 记录所有评分records (uid, iid, rating, time), ...按照uid、time从小到大排序\n",
    "for line in data.itertuples():\n",
    "    u, i , rating, time = line[1], line[2], line[3], line[4]\n",
    "    train_items.setdefault(u, []).append((u, i, rating, time)) # 记录k-v: key是uid, v是(u,i,r,t)的records\n",
    "    if u not in test_items or test_items[u][-1] < time: # 若这个uid未记录在test_items, 或该行的time比test_items所记录的更大\n",
    "        test_items[u] = (i, rating, time) # 设定/更换test_items中这个uid的最新评分记录\n",
    "for u in range(1, num_users+1): # uid就是1到num_users的自然数字\n",
    "    train_list.extend( sorted(train_items[u], key=lambda k: k[3]) ) # 记录每一个uid的所有评分记录, 按time从小到大排序\n",
    "test_data =  [(key, *value) for key, value in test_items.items()] # 分解test_items到test_data: [(uid, iid, rating, time), ...]\n",
    "train_data = [item for item in train_list if item not in test_data] # 不在test_data里的评分记录, 是train_data\n",
    "train_data = pd.DataFrame(train_data)\n",
    "test_data = pd.DataFrame(test_data)"
   ]
  }
 ],
 "metadata": {
  "kernelspec": {
   "display_name": "study",
   "language": "python",
   "name": "python3"
  },
  "language_info": {
   "codemirror_mode": {
    "name": "ipython",
    "version": 3
   },
   "file_extension": ".py",
   "mimetype": "text/x-python",
   "name": "python",
   "nbconvert_exporter": "python",
   "pygments_lexer": "ipython3",
   "version": "3.10.9"
  },
  "vscode": {
   "interpreter": {
    "hash": "81b0bd1c56595d2e11429bb1af0ffa8a1550d993af8a59c01efaa46355771b1c"
   }
  }
 },
 "nbformat": 4,
 "nbformat_minor": 5
}
