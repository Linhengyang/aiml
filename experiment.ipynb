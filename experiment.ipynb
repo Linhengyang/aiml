{
 "cells": [
  {
   "cell_type": "code",
   "execution_count": 28,
   "id": "c37c9180",
   "metadata": {},
   "outputs": [],
   "source": [
    "import torch\n",
    "import torch.nn as nn\n",
    "import os\n",
    "import warnings\n",
    "warnings.filterwarnings(\"ignore\")"
   ]
  },
  {
   "cell_type": "code",
   "execution_count": 2,
   "id": "e10a88e5",
   "metadata": {},
   "outputs": [],
   "source": [
    "# img_size, patch_size, num_hiddens, batch_size = 96, 16, 512, 4\n",
    "# x = torch.ones(batch_size, 3, img_size, img_size)\n",
    "# conv_layer = nn.LazyConv2d(num_hiddens, kernel_size=(patch_size, patch_size), stride=(patch_size, patch_size))"
   ]
  },
  {
   "cell_type": "code",
   "execution_count": 3,
   "id": "e6682074",
   "metadata": {},
   "outputs": [],
   "source": [
    "# conv_layer(x).flatten(start_dim=2).shape"
   ]
  }
 ],
 "metadata": {
  "kernelspec": {
   "display_name": "study",
   "language": "python",
   "name": "python3"
  },
  "language_info": {
   "codemirror_mode": {
    "name": "ipython",
    "version": 3
   },
   "file_extension": ".py",
   "mimetype": "text/x-python",
   "name": "python",
   "nbconvert_exporter": "python",
   "pygments_lexer": "ipython3",
   "version": "3.10.9"
  },
  "vscode": {
   "interpreter": {
    "hash": "81b0bd1c56595d2e11429bb1af0ffa8a1550d993af8a59c01efaa46355771b1c"
   }
  }
 },
 "nbformat": 4,
 "nbformat_minor": 5
}
