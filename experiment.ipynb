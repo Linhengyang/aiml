{
 "cells": [
  {
   "cell_type": "code",
   "execution_count": 1,
   "id": "c37c9180",
   "metadata": {},
   "outputs": [],
   "source": [
    "import os\n",
    "import warnings\n",
    "warnings.filterwarnings(\"ignore\")\n",
    "import torch\n",
    "import torch.nn as nn\n",
    "import pandas as pd\n",
    "import numpy as np"
   ]
  },
  {
   "cell_type": "code",
   "execution_count": 2,
   "id": "0fce034a",
   "metadata": {},
   "outputs": [],
   "source": [
    "mat = torch.randn(10, 10)"
   ]
  },
  {
   "cell_type": "code",
   "execution_count": 3,
   "id": "feabb4a3",
   "metadata": {},
   "outputs": [
    {
     "data": {
      "text/plain": [
       "tensor([[-1.4165, -0.8197,  0.5840, -0.5710,  1.1775, -2.6520, -1.8013, -0.0610,\n",
       "         -0.0790, -0.6620],\n",
       "        [ 0.1750, -2.3289,  0.6482,  0.0667, -1.2433,  0.4419,  0.0087,  1.6919,\n",
       "         -0.4607,  1.5415],\n",
       "        [-1.6358, -0.3130, -0.2227, -0.8180,  0.1609,  0.6328, -1.2006, -0.4555,\n",
       "          0.2691, -1.8366],\n",
       "        [ 0.4538, -0.1072,  1.4451,  0.7337,  1.0028,  1.9876, -0.4316,  0.2059,\n",
       "          0.2663,  1.5349],\n",
       "        [-0.6244,  0.1345,  1.0451, -0.3463, -0.9997,  0.7693, -2.0890, -1.8439,\n",
       "          1.2456,  0.6228],\n",
       "        [ 0.1525,  1.0256,  2.1814,  0.9934,  0.3796, -1.0118,  1.5973, -0.7096,\n",
       "         -2.0966, -2.0054],\n",
       "        [ 0.7749, -1.1679, -1.0441, -0.4934, -0.3041,  0.0481,  2.3030, -0.5135,\n",
       "         -1.2164, -0.4723],\n",
       "        [-1.2713, -1.2919, -0.1789,  1.5725, -1.8203, -0.2809, -0.6363,  0.5666,\n",
       "         -1.0085, -0.1092],\n",
       "        [-0.1462,  0.6494, -1.0594, -1.0009,  2.5404, -0.1336, -1.0451,  0.1042,\n",
       "         -1.4020,  0.0568],\n",
       "        [ 1.5819,  1.1761, -1.4104, -0.9988,  0.5116,  0.4111, -1.3178, -0.3116,\n",
       "          0.5301, -1.3026]])"
      ]
     },
     "execution_count": 3,
     "metadata": {},
     "output_type": "execute_result"
    }
   ],
   "source": [
    "mat"
   ]
  },
  {
   "cell_type": "code",
   "execution_count": 6,
   "id": "ebbe4d9a",
   "metadata": {},
   "outputs": [],
   "source": [
    "data_iter = torch.utils.data.DataLoader(mat, batch_size=5, shuffle=True)"
   ]
  }
 ],
 "metadata": {
  "kernelspec": {
   "display_name": "study",
   "language": "python",
   "name": "python3"
  },
  "language_info": {
   "codemirror_mode": {
    "name": "ipython",
    "version": 3
   },
   "file_extension": ".py",
   "mimetype": "text/x-python",
   "name": "python",
   "nbconvert_exporter": "python",
   "pygments_lexer": "ipython3",
   "version": "3.10.9"
  },
  "vscode": {
   "interpreter": {
    "hash": "81b0bd1c56595d2e11429bb1af0ffa8a1550d993af8a59c01efaa46355771b1c"
   }
  }
 },
 "nbformat": 4,
 "nbformat_minor": 5
}
