{
 "cells": [
  {
   "cell_type": "code",
   "execution_count": 2,
   "id": "c37c9180",
   "metadata": {},
   "outputs": [],
   "source": [
    "import os\n",
    "import warnings\n",
    "warnings.filterwarnings(\"ignore\")\n",
    "import torch\n",
    "from torch import Tensor\n",
    "import torch.nn as nn\n",
    "import pandas as pd\n",
    "import numpy as np\n",
    "import random"
   ]
  },
  {
   "cell_type": "code",
   "execution_count": null,
   "id": "347da5eb",
   "metadata": {},
   "outputs": [],
   "source": [
    "def get_tokens_segments(tokens_a, tokens_b=None):\n",
    "    # input token_a: list of tokens, [tk1, tk2,...,tkN]\n",
    "    # input token_b if not none: list of tokens, [tk1, tk2,...,tkN]\n",
    "    tokens = ['<cls>'] + tokens_a + ['<sep>']\n",
    "    segments = [0] * len(tokens)\n",
    "    if tokens_b:\n",
    "        tokens += tokens_b + ['<sep>']\n",
    "        segments += [1]*(len(tokens_b) + 1)\n",
    "    return tokens, segments"
   ]
  },
  {
   "cell_type": "code",
   "execution_count": 2,
   "id": "a6e884d4",
   "metadata": {},
   "outputs": [],
   "source": [
    "x = torch.randn(3, 4, 5)"
   ]
  },
  {
   "cell_type": "code",
   "execution_count": 4,
   "id": "954f8754",
   "metadata": {},
   "outputs": [],
   "source": [
    "batch = torch.tensor([0, 0, 1, 1])\n",
    "pos = torch.tensor([0,1, 0, 3])"
   ]
  },
  {
   "cell_type": "code",
   "execution_count": 3,
   "id": "7c206335",
   "metadata": {},
   "outputs": [
    {
     "data": {
      "text/plain": [
       "tensor([0, 0, 0, 0, 0, 0, 1, 1, 1, 1, 1, 1])"
      ]
     },
     "execution_count": 3,
     "metadata": {},
     "output_type": "execute_result"
    }
   ],
   "source": [
    "x = torch.tensor([0,0,1,1])\n",
    "x.repeat_interleave(3)"
   ]
  }
 ],
 "metadata": {
  "kernelspec": {
   "display_name": "study",
   "language": "python",
   "name": "python3"
  },
  "language_info": {
   "codemirror_mode": {
    "name": "ipython",
    "version": 3
   },
   "file_extension": ".py",
   "mimetype": "text/x-python",
   "name": "python",
   "nbconvert_exporter": "python",
   "pygments_lexer": "ipython3",
   "version": "3.10.9"
  },
  "vscode": {
   "interpreter": {
    "hash": "81b0bd1c56595d2e11429bb1af0ffa8a1550d993af8a59c01efaa46355771b1c"
   }
  }
 },
 "nbformat": 4,
 "nbformat_minor": 5
}
