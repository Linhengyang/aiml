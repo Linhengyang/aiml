{
 "cells": [
  {
   "cell_type": "code",
   "execution_count": 30,
   "id": "17b04b07",
   "metadata": {},
   "outputs": [],
   "source": [
    "import numpy as np\n",
    "import pyarrow as pa\n",
    "schema = pa.schema([pa.field( 'tokens', pa.list_(pa.field('token', pa.int32())) ),])\n",
    "merged_tokens =np.array( [np.array([1,2,3]), np.array([1,2])], dtype=object )\n",
    "batch = pa.RecordBatch.from_pydict({'tokens': merged_tokens}, schema)"
   ]
  },
  {
   "cell_type": "code",
   "execution_count": 38,
   "id": "510f6139",
   "metadata": {},
   "outputs": [
    {
     "data": {
      "text/plain": [
       "<pyarrow.lib.ListArray object at 0x10ee65660>\n",
       "[\n",
       "  [\n",
       "    1,\n",
       "    2,\n",
       "    3\n",
       "  ],\n",
       "  [\n",
       "    1,\n",
       "    2\n",
       "  ]\n",
       "]"
      ]
     },
     "execution_count": 38,
     "metadata": {},
     "output_type": "execute_result"
    }
   ],
   "source": [
    "batch['tokens']"
   ]
  },
  {
   "cell_type": "code",
   "execution_count": 37,
   "id": "03386d15",
   "metadata": {},
   "outputs": [
    {
     "data": {
      "text/plain": [
       "<pyarrow.lib.Int32Array object at 0x10eeb5120>\n",
       "[\n",
       "  1,\n",
       "  2,\n",
       "  3,\n",
       "  1,\n",
       "  2\n",
       "]"
      ]
     },
     "execution_count": 37,
     "metadata": {},
     "output_type": "execute_result"
    }
   ],
   "source": [
    "batch['tokens'].values"
   ]
  },
  {
   "cell_type": "code",
   "execution_count": 39,
   "id": "91436371",
   "metadata": {},
   "outputs": [
    {
     "data": {
      "text/plain": [
       "<pyarrow.lib.Int32Array object at 0x10eeb6140>\n",
       "[\n",
       "  0,\n",
       "  3,\n",
       "  5\n",
       "]"
      ]
     },
     "execution_count": 39,
     "metadata": {},
     "output_type": "execute_result"
    }
   ],
   "source": [
    "batch['tokens'].offsets"
   ]
  },
  {
   "cell_type": "code",
   "execution_count": null,
   "id": "0470c061",
   "metadata": {},
   "outputs": [],
   "source": []
  },
  {
   "cell_type": "code",
   "execution_count": null,
   "id": "cf71ebe4",
   "metadata": {},
   "outputs": [],
   "source": []
  },
  {
   "cell_type": "code",
   "execution_count": 33,
   "id": "77fb59c6",
   "metadata": {},
   "outputs": [
    {
     "data": {
      "text/plain": [
       "['__array__',\n",
       " '__arrow_c_array__',\n",
       " '__arrow_c_device_array__',\n",
       " '__class__',\n",
       " '__delattr__',\n",
       " '__dir__',\n",
       " '__dlpack__',\n",
       " '__dlpack_device__',\n",
       " '__doc__',\n",
       " '__eq__',\n",
       " '__format__',\n",
       " '__ge__',\n",
       " '__getattribute__',\n",
       " '__getitem__',\n",
       " '__getstate__',\n",
       " '__gt__',\n",
       " '__hash__',\n",
       " '__init__',\n",
       " '__init_subclass__',\n",
       " '__iter__',\n",
       " '__le__',\n",
       " '__len__',\n",
       " '__lt__',\n",
       " '__ne__',\n",
       " '__new__',\n",
       " '__pyx_vtable__',\n",
       " '__reduce__',\n",
       " '__reduce_cython__',\n",
       " '__reduce_ex__',\n",
       " '__repr__',\n",
       " '__setattr__',\n",
       " '__setstate__',\n",
       " '__setstate_cython__',\n",
       " '__sizeof__',\n",
       " '__str__',\n",
       " '__subclasshook__',\n",
       " '_debug_print',\n",
       " '_export_to_c',\n",
       " '_export_to_c_device',\n",
       " '_import_from_c',\n",
       " '_import_from_c_capsule',\n",
       " '_import_from_c_device',\n",
       " '_import_from_c_device_capsule',\n",
       " '_name',\n",
       " '_to_pandas',\n",
       " 'buffers',\n",
       " 'cast',\n",
       " 'copy_to',\n",
       " 'device_type',\n",
       " 'dictionary_encode',\n",
       " 'diff',\n",
       " 'drop_null',\n",
       " 'equals',\n",
       " 'fill_null',\n",
       " 'filter',\n",
       " 'flatten',\n",
       " 'format',\n",
       " 'from_arrays',\n",
       " 'from_buffers',\n",
       " 'from_pandas',\n",
       " 'get_total_buffer_size',\n",
       " 'index',\n",
       " 'is_cpu',\n",
       " 'is_nan',\n",
       " 'is_null',\n",
       " 'is_valid',\n",
       " 'nbytes',\n",
       " 'null_count',\n",
       " 'offset',\n",
       " 'offsets',\n",
       " 'slice',\n",
       " 'sort',\n",
       " 'statistics',\n",
       " 'sum',\n",
       " 'take',\n",
       " 'to_numpy',\n",
       " 'to_pandas',\n",
       " 'to_pylist',\n",
       " 'to_string',\n",
       " 'tolist',\n",
       " 'type',\n",
       " 'unique',\n",
       " 'validate',\n",
       " 'value_counts',\n",
       " 'value_lengths',\n",
       " 'value_parent_indices',\n",
       " 'values',\n",
       " 'view']"
      ]
     },
     "execution_count": 33,
     "metadata": {},
     "output_type": "execute_result"
    }
   ],
   "source": [
    "dir(pa.lib.ListArray)"
   ]
  },
  {
   "cell_type": "code",
   "execution_count": null,
   "id": "41389ac4",
   "metadata": {},
   "outputs": [],
   "source": [
    "batch['tokens'].to_numpy()"
   ]
  }
 ],
 "metadata": {
  "kernelspec": {
   "display_name": "dl",
   "language": "python",
   "name": "python3"
  },
  "language_info": {
   "codemirror_mode": {
    "name": "ipython",
    "version": 3
   },
   "file_extension": ".py",
   "mimetype": "text/x-python",
   "name": "python",
   "nbconvert_exporter": "python",
   "pygments_lexer": "ipython3",
   "version": "3.12.9"
  }
 },
 "nbformat": 4,
 "nbformat_minor": 5
}
