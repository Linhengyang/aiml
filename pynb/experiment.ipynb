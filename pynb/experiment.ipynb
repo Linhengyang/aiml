{
 "cells": [
  {
   "cell_type": "code",
   "execution_count": null,
   "id": "c37c9180",
   "metadata": {},
   "outputs": [],
   "source": [
    "import os\n",
    "import warnings\n",
    "warnings.filterwarnings(\"ignore\")\n",
    "import torch\n",
    "from torch import Tensor\n",
    "import torch.nn as nn\n",
    "import pandas as pd\n",
    "import numpy as np\n",
    "import random"
   ]
  },
  {
   "cell_type": "code",
   "execution_count": 3,
   "id": "88683feb",
   "metadata": {},
   "outputs": [
    {
     "name": "stdout",
     "output_type": "stream",
     "text": [
      "cuda is available\n",
      "1 GPU detected\n",
      "torch version as 1.13.1\n"
     ]
    }
   ],
   "source": [
    "if torch.cuda.is_available():\n",
    "    print(\"cuda is available\")\n",
    "    print(f\"{torch.cuda.device_count()} GPU detected\")\n",
    "else:\n",
    "    print(\"cuda not available\")\n",
    "\n",
    "print(f\"torch version as {torch.__version__}\")"
   ]
  },
  {
   "cell_type": "code",
   "execution_count": 2,
   "id": "2f20096f",
   "metadata": {},
   "outputs": [],
   "source": [
    "data_folder = \"../../data/semantic_segmentation/VOCdevkit/VOC2012\""
   ]
  },
  {
   "cell_type": "code",
   "execution_count": 3,
   "id": "ea7d9448",
   "metadata": {},
   "outputs": [
    {
     "name": "stdout",
     "output_type": "stream",
     "text": [
      "['2007_000032', '2007_000039', '2007_000063', '2007_000068', '2007_000121', '2007_000170', '2007_000241', '2007_000243', '2007_000250', '2007_000256']\n"
     ]
    }
   ],
   "source": [
    "# train.txt 存储了训练集文件名\n",
    "train_set = \"ImageSets/Segmentation/train.txt\"\n",
    "train_set = os.path.join(data_folder, train_set)\n",
    "with open(train_set, 'r') as f:\n",
    "    images = f.read().split()\n",
    "print(images[:10])"
   ]
  },
  {
   "cell_type": "code",
   "execution_count": 11,
   "id": "a7c99864",
   "metadata": {},
   "outputs": [],
   "source": [
    "# 尝试读取其中一个图片\n",
    "import torchvision\n",
    "img = torchvision.io.read_image(os.path.join(data_folder, 'JPEGImages', '2007_000032.jpg')) # num_channels, height, width"
   ]
  },
  {
   "cell_type": "code",
   "execution_count": 12,
   "id": "deb68b76",
   "metadata": {},
   "outputs": [
    {
     "data": {
      "text/plain": [
       "torch.Size([3, 281, 500])"
      ]
     },
     "execution_count": 12,
     "metadata": {},
     "output_type": "execute_result"
    }
   ],
   "source": [
    "img.shape"
   ]
  },
  {
   "cell_type": "code",
   "execution_count": 13,
   "id": "105eae84",
   "metadata": {},
   "outputs": [
    {
     "data": {
      "image/png": "[encoded data removed]",
      "text/plain": [
       "<Figure size 100x100 with 1 Axes>"
      ]
     },
     "metadata": {},
     "output_type": "display_data"
    }
   ],
   "source": [
    "from matplotlib import pyplot as plt\n",
    "_, axes = plt.subplots(1, 1, figsize=(1, 1))\n",
    "axes.imshow(img.permute(1,2,0).numpy()) # plt的输入shape是(height, width, num_channels)\n",
    "axes.get_xaxis().set_visible(False)\n",
    "axes.get_yaxis().set_visible(False)"
   ]
  },
  {
   "cell_type": "code",
   "execution_count": 23,
   "id": "37ffe25c",
   "metadata": {},
   "outputs": [],
   "source": [
    "# 尝试读取对应的标签\n",
    "import torchvision\n",
    "label = torchvision.io.read_image(os.path.join(data_folder, 'SegmentationClass', '2007_000032.png')) # num_channels, heights, width"
   ]
  },
  {
   "cell_type": "code",
   "execution_count": 24,
   "id": "836ed8a7",
   "metadata": {},
   "outputs": [
    {
     "data": {
      "text/plain": [
       "torch.Size([1, 281, 500])"
      ]
     },
     "execution_count": 24,
     "metadata": {},
     "output_type": "execute_result"
    }
   ],
   "source": [
    "label.shape"
   ]
  },
  {
   "cell_type": "code",
   "execution_count": 25,
   "id": "1ca79e21",
   "metadata": {},
   "outputs": [
    {
     "data": {
      "text/plain": [
       "tensor([  0,   1,  15, 255], dtype=torch.uint8)"
      ]
     },
     "execution_count": 25,
     "metadata": {},
     "output_type": "execute_result"
    }
   ],
   "source": [
    "# 0是黑色背景，255是白色边框，1和15说明该图片中共有两个不同区域\n",
    "torch.unique(label)"
   ]
  },
  {
   "cell_type": "code",
   "execution_count": 30,
   "id": "c228fb9b",
   "metadata": {},
   "outputs": [
    {
     "data": {
      "image/png": "[encoded data removed]",
      "text/plain": [
       "<Figure size 100x100 with 1 Axes>"
      ]
     },
     "metadata": {},
     "output_type": "display_data"
    }
   ],
   "source": [
    "_, axes = plt.subplots(1, 1, figsize=(1, 1))\n",
    "axes.imshow(label.permute(1,2,0).numpy()) # plt的输入shape是(height, width, num_channels)\n",
    "axes.get_xaxis().set_visible(False)\n",
    "axes.get_yaxis().set_visible(False)"
   ]
  },
  {
   "cell_type": "code",
   "execution_count": 26,
   "id": "48698863",
   "metadata": {},
   "outputs": [],
   "source": [
    "# 用rgb模式去读取label\n",
    "mode = torchvision.io.image.ImageReadMode.RGB\n",
    "label_rgb = torchvision.io.read_image(os.path.join(data_folder, 'SegmentationClass', '2007_000032.png'), mode) # num_channels, heights, width"
   ]
  },
  {
   "cell_type": "code",
   "execution_count": 27,
   "id": "e1eab568",
   "metadata": {},
   "outputs": [
    {
     "data": {
      "text/plain": [
       "torch.Size([3, 281, 500])"
      ]
     },
     "execution_count": 27,
     "metadata": {},
     "output_type": "execute_result"
    }
   ],
   "source": [
    "label_rgb.shape"
   ]
  },
  {
   "cell_type": "code",
   "execution_count": 29,
   "id": "c2a2016e",
   "metadata": {},
   "outputs": [
    {
     "data": {
      "text/plain": [
       "tensor([  0, 128, 192, 224], dtype=torch.uint8)"
      ]
     },
     "execution_count": 29,
     "metadata": {},
     "output_type": "execute_result"
    }
   ],
   "source": [
    "torch.unique(label_rgb)"
   ]
  },
  {
   "cell_type": "code",
   "execution_count": 31,
   "id": "aadc71a3",
   "metadata": {},
   "outputs": [
    {
     "data": {
      "image/png": "[encoded data removed]",
      "text/plain": [
       "<Figure size 100x100 with 1 Axes>"
      ]
     },
     "metadata": {},
     "output_type": "display_data"
    }
   ],
   "source": [
    "_, axes = plt.subplots(1, 1, figsize=(1, 1))\n",
    "axes.imshow(label_rgb.permute(1,2,0).numpy()) # plt的输入shape是(height, width, num_channels)\n",
    "axes.get_xaxis().set_visible(False)\n",
    "axes.get_yaxis().set_visible(False)"
   ]
  }
 ],
 "metadata": {
  "kernelspec": {
   "display_name": "dl",
   "language": "python",
   "name": "python3"
  },
  "language_info": {
   "codemirror_mode": {
    "name": "ipython",
    "version": 3
   },
   "file_extension": ".py",
   "mimetype": "text/x-python",
   "name": "python",
   "nbconvert_exporter": "python",
   "pygments_lexer": "ipython3",
   "version": "3.10.14"
  }
 },
 "nbformat": 4,
 "nbformat_minor": 5
}
