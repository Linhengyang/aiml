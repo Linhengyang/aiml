{
 "cells": [
  {
   "cell_type": "code",
   "execution_count": null,
   "id": "c37c9180",
   "metadata": {},
   "outputs": [],
   "source": [
    "import os\n",
    "import warnings\n",
    "warnings.filterwarnings(\"ignore\")\n",
    "import torch\n",
    "from torch import Tensor\n",
    "import torch.nn as nn\n",
    "import pandas as pd\n",
    "import numpy as np\n",
    "import random"
   ]
  },
  {
   "cell_type": "code",
   "execution_count": null,
   "id": "88683feb",
   "metadata": {},
   "outputs": [],
   "source": [
    "if torch.cuda.is_available():\n",
    "    print(\"cuda is available\")\n",
    "    print(f\"{torch.cuda.device_count()} GPU detected\")\n",
    "else:\n",
    "    print(\"cuda not available\")\n",
    "\n",
    "print(f\"torch version as {torch.__version__}\")"
   ]
  },
  {
   "cell_type": "code",
   "execution_count": null,
   "id": "fc9f59ab",
   "metadata": {
    "vscode": {
     "languageId": "shellscript"
    }
   },
   "outputs": [],
   "source": [
    "pwd"
   ]
  },
  {
   "cell_type": "code",
   "execution_count": null,
   "id": "2f20096f",
   "metadata": {},
   "outputs": [],
   "source": [
    "data_folder = \"../../../data/PascalVOC2012\""
   ]
  },
  {
   "cell_type": "code",
   "execution_count": null,
   "id": "c5918632",
   "metadata": {},
   "outputs": [],
   "source": [
    "os.listdir(data_folder)"
   ]
  },
  {
   "cell_type": "code",
   "execution_count": null,
   "id": "ea7d9448",
   "metadata": {},
   "outputs": [],
   "source": [
    "# train.txt 存储了训练集文件名\n",
    "train_set = \"ImageSets/Segmentation/train.txt\"\n",
    "train_set = os.path.join(data_folder, train_set)\n",
    "with open(train_set, 'r') as f:\n",
    "    images = f.read().split()\n",
    "print(images[:10])"
   ]
  },
  {
   "cell_type": "code",
   "execution_count": null,
   "id": "a7c99864",
   "metadata": {},
   "outputs": [],
   "source": [
    "# 尝试读取其中一个图片\n",
    "import torchvision\n",
    "img = torchvision.io.read_image(os.path.join(data_folder, 'JPEGImages', '2007_000032.jpg')) # num_channels, height, width"
   ]
  },
  {
   "cell_type": "code",
   "execution_count": null,
   "id": "deb68b76",
   "metadata": {},
   "outputs": [],
   "source": [
    "img.shape"
   ]
  },
  {
   "cell_type": "code",
   "execution_count": null,
   "id": "105eae84",
   "metadata": {},
   "outputs": [],
   "source": [
    "from matplotlib import pyplot as plt\n",
    "_, axes = plt.subplots(1, 1, figsize=(1, 1))\n",
    "axes.imshow(img.permute(1,2,0).numpy()) # plt的输入shape是(height, width, num_channels)\n",
    "axes.get_xaxis().set_visible(False)\n",
    "axes.get_yaxis().set_visible(False)"
   ]
  },
  {
   "cell_type": "code",
   "execution_count": null,
   "id": "37ffe25c",
   "metadata": {},
   "outputs": [],
   "source": [
    "# 尝试读取对应的标签\n",
    "import torchvision\n",
    "label = torchvision.io.read_image(os.path.join(data_folder, 'SegmentationClass', '2007_000032.png')) # num_channels, heights, width"
   ]
  },
  {
   "cell_type": "code",
   "execution_count": null,
   "id": "836ed8a7",
   "metadata": {},
   "outputs": [],
   "source": [
    "label.shape"
   ]
  },
  {
   "cell_type": "code",
   "execution_count": null,
   "id": "1ca79e21",
   "metadata": {},
   "outputs": [],
   "source": [
    "# 0是黑色背景，255是白色边框，1和15说明该图片中共有两个不同区域\n",
    "torch.unique(label)"
   ]
  },
  {
   "cell_type": "code",
   "execution_count": null,
   "id": "c228fb9b",
   "metadata": {},
   "outputs": [],
   "source": [
    "_, axes = plt.subplots(1, 1, figsize=(1, 1))\n",
    "axes.imshow(label.permute(1,2,0).numpy()) # plt的输入shape是(height, width, num_channels)\n",
    "axes.get_xaxis().set_visible(False)\n",
    "axes.get_yaxis().set_visible(False)"
   ]
  },
  {
   "cell_type": "code",
   "execution_count": null,
   "id": "48698863",
   "metadata": {},
   "outputs": [],
   "source": [
    "# 用rgb模式去读取label\n",
    "mode = torchvision.io.image.ImageReadMode.RGB\n",
    "label_rgb = torchvision.io.read_image(os.path.join(data_folder, 'SegmentationClass', '2007_000032.png'), mode) # num_channels, heights, width"
   ]
  },
  {
   "cell_type": "code",
   "execution_count": null,
   "id": "e1eab568",
   "metadata": {},
   "outputs": [],
   "source": [
    "label_rgb.shape"
   ]
  },
  {
   "cell_type": "code",
   "execution_count": null,
   "id": "c2a2016e",
   "metadata": {},
   "outputs": [],
   "source": [
    "torch.unique(label_rgb)"
   ]
  },
  {
   "cell_type": "code",
   "execution_count": null,
   "id": "aadc71a3",
   "metadata": {},
   "outputs": [],
   "source": [
    "_, axes = plt.subplots(1, 1, figsize=(1, 1))\n",
    "axes.imshow(label_rgb.permute(1,2,0).numpy()) # plt的输入shape是(height, width, num_channels)\n",
    "axes.get_xaxis().set_visible(False)\n",
    "axes.get_yaxis().set_visible(False)"
   ]
  }
 ],
 "metadata": {
  "kernelspec": {
   "display_name": "dl",
   "language": "python",
   "name": "python3"
  },
  "language_info": {
   "codemirror_mode": {
    "name": "ipython",
    "version": 3
   },
   "file_extension": ".py",
   "mimetype": "text/x-python",
   "name": "python",
   "nbconvert_exporter": "python",
   "pygments_lexer": "ipython3",
   "version": "3.12.9"
  }
 },
 "nbformat": 4,
 "nbformat_minor": 5
}
